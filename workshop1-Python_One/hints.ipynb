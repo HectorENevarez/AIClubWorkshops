{
 "cells": [
  {
   "cell_type": "markdown",
   "metadata": {},
   "source": [
    "# Question 1: Python if-Else\n",
    "- This is a simple question that tests you on your ability to create an if-Else chain\n",
    "\n",
    "Key things to remember: \n",
    "1. you can use 'and' and 'or' in order to join conditional statements\n",
    "2. the '%' operator can be used in order to check for a remainder"
   ]
  },
  {
   "cell_type": "code",
   "execution_count": null,
   "metadata": {},
   "outputs": [],
   "source": [
    "# When solving this problem write your code below the if __name__ == '__main__'\n",
    "\n",
    "#!/bin/python3\n",
    "\n",
    "import math\n",
    "import os\n",
    "import random\n",
    "import re\n",
    "import sys\n",
    "\n",
    "if __name__ == '__main__':\n",
    "    #n = int(input().strip())\n",
    "    print('Write code below this statement') #I added this myself, not in actual code\n",
    "\n",
    "#Write your code here"
   ]
  },
  {
   "cell_type": "markdown",
   "metadata": {},
   "source": [
    "# Question 2: Write a function\n",
    "- This question utilizes the modulus operator(%) mostly\n",
    "- The biggest issue here is the order of operations in which you place your if statements\n",
    "- Don't overthink the solution"
   ]
  },
  {
   "cell_type": "code",
   "execution_count": 2,
   "metadata": {},
   "outputs": [],
   "source": [
    "def is_leap(year):\n",
    "    leap = False #This variable is what will change throughout your program\n",
    "    \n",
    "    # Write your logic here\n",
    "    \n",
    "    return leap #We haven't gone over return statements but this will submit your final answer"
   ]
  },
  {
   "cell_type": "markdown",
   "metadata": {},
   "source": [
    "# Question 3: Find Angle MBC\n",
    "- This is the hardest question in the challenge\n",
    "- This involves more math for its logic\n",
    "- While we haven't gone over import statements, this requires you to use functions from the math library\n",
    "- When prnting answer make sure seperation in the print statement is none (sep = '')\n",
    "\n",
    "Important relationships from the problem:\n",
    "1. BM = MC\n",
    "2. $\\theta$ (theta) = tan<sup>-1</sup> ($\\frac{AB}{BC}$)"
   ]
  },
  {
   "cell_type": "code",
   "execution_count": 3,
   "metadata": {},
   "outputs": [
    {
     "name": "stdin",
     "output_type": "stream",
     "text": [
      " \n",
      " \n"
     ]
    }
   ],
   "source": [
    "import math #include this at the top of your code\n",
    "\n",
    "ab = input() #include this in your code\n",
    "bc = input() #this takes the input directly from hackerrank so that you can use their provided values"
   ]
  },
  {
   "cell_type": "code",
   "execution_count": 4,
   "metadata": {},
   "outputs": [
    {
     "name": "stdout",
     "output_type": "stream",
     "text": [
      "Example of rounding in python:  8\n",
      "inverse tangent in the math library:  0.4636476090008061\n",
      "Print value in degrees:  26.56505117707799\n",
      "Print degree symbol:  °\n"
     ]
    }
   ],
   "source": [
    "#Here are some math/python functions that will help you\n",
    "\n",
    "print(\"Example of rounding in python: \", round(7.6)) #this rounds float value\n",
    "\n",
    "print(\"inverse tangent in the math library: \", math.atan(1/2))#computes inverse tangent\n",
    "\n",
    "print(\"Print value in degrees: \", math.degrees(0.4636476090008061)) #Prints value in degrees\n",
    "\n",
    "print(\"Print degree symbol: \", chr(176)) #character 176 is the degree symbol in python"
   ]
  }
 ],
 "metadata": {
  "kernelspec": {
   "display_name": "Python 3",
   "language": "python",
   "name": "python3"
  },
  "language_info": {
   "codemirror_mode": {
    "name": "ipython",
    "version": 3
   },
   "file_extension": ".py",
   "mimetype": "text/x-python",
   "name": "python",
   "nbconvert_exporter": "python",
   "pygments_lexer": "ipython3",
   "version": "3.8.3"
  }
 },
 "nbformat": 4,
 "nbformat_minor": 4
}
