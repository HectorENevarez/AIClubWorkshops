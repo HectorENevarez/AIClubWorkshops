{
 "cells": [
  {
   "cell_type": "code",
   "execution_count": 6,
   "metadata": {},
   "outputs": [],
   "source": [
    "import pandas as pd\n",
    "import matplotlib.pyplot as plt\n",
    "import seaborn as sns"
   ]
  },
  {
   "cell_type": "code",
   "execution_count": 8,
   "metadata": {},
   "outputs": [],
   "source": [
    "df = pd.read_csv('../workshop3-cleaningData/Salary_Data_Cleaned.csv')"
   ]
  },
  {
   "cell_type": "code",
   "execution_count": 9,
   "metadata": {},
   "outputs": [
    {
     "data": {
      "text/html": [
       "<div>\n",
       "<style scoped>\n",
       "    .dataframe tbody tr th:only-of-type {\n",
       "        vertical-align: middle;\n",
       "    }\n",
       "\n",
       "    .dataframe tbody tr th {\n",
       "        vertical-align: top;\n",
       "    }\n",
       "\n",
       "    .dataframe thead th {\n",
       "        text-align: right;\n",
       "    }\n",
       "</style>\n",
       "<table border=\"1\" class=\"dataframe\">\n",
       "  <thead>\n",
       "    <tr style=\"text-align: right;\">\n",
       "      <th></th>\n",
       "      <th>Unnamed: 0</th>\n",
       "      <th>Job Title</th>\n",
       "      <th>Salary Estimate</th>\n",
       "      <th>Job Description</th>\n",
       "      <th>Rating</th>\n",
       "      <th>Company Name</th>\n",
       "      <th>Location</th>\n",
       "      <th>Headquarters</th>\n",
       "      <th>Size</th>\n",
       "      <th>Founded</th>\n",
       "      <th>...</th>\n",
       "      <th>Salary(Avg)</th>\n",
       "      <th>State</th>\n",
       "      <th>City</th>\n",
       "      <th>Position at HQ</th>\n",
       "      <th>Company Age</th>\n",
       "      <th>JavaScript</th>\n",
       "      <th>Python</th>\n",
       "      <th>C_plus</th>\n",
       "      <th>SQL</th>\n",
       "      <th>AWS</th>\n",
       "    </tr>\n",
       "  </thead>\n",
       "  <tbody>\n",
       "    <tr>\n",
       "      <th>0</th>\n",
       "      <td>0</td>\n",
       "      <td>Software Engineer</td>\n",
       "      <td>$107K-$157K (Glassdoor est.)</td>\n",
       "      <td>MedBill is looking for a Software Engineer to ...</td>\n",
       "      <td>4.4</td>\n",
       "      <td>MedBill\\n4.4</td>\n",
       "      <td>Boone, NC</td>\n",
       "      <td>Pittsburgh, PA</td>\n",
       "      <td>51 to 200 employees</td>\n",
       "      <td>2005</td>\n",
       "      <td>...</td>\n",
       "      <td>132.0</td>\n",
       "      <td>NC</td>\n",
       "      <td>Boone</td>\n",
       "      <td>0</td>\n",
       "      <td>15</td>\n",
       "      <td>1</td>\n",
       "      <td>0</td>\n",
       "      <td>0</td>\n",
       "      <td>1</td>\n",
       "      <td>0</td>\n",
       "    </tr>\n",
       "    <tr>\n",
       "      <th>1</th>\n",
       "      <td>1</td>\n",
       "      <td>Software Engineer</td>\n",
       "      <td>$107K-$157K (Glassdoor est.)</td>\n",
       "      <td>Job Description:\\nInfogroup is looking for top...</td>\n",
       "      <td>3.6</td>\n",
       "      <td>Yes Marketing\\n3.6</td>\n",
       "      <td>Marshfield, WI</td>\n",
       "      <td>Chicago, IL</td>\n",
       "      <td>201 to 500 employees</td>\n",
       "      <td>2000</td>\n",
       "      <td>...</td>\n",
       "      <td>132.0</td>\n",
       "      <td>WI</td>\n",
       "      <td>Marshfield</td>\n",
       "      <td>0</td>\n",
       "      <td>20</td>\n",
       "      <td>0</td>\n",
       "      <td>0</td>\n",
       "      <td>0</td>\n",
       "      <td>0</td>\n",
       "      <td>0</td>\n",
       "    </tr>\n",
       "    <tr>\n",
       "      <th>2</th>\n",
       "      <td>2</td>\n",
       "      <td>Full Stack Software Engineer</td>\n",
       "      <td>$107K-$157K (Glassdoor est.)</td>\n",
       "      <td>Why OJO?\\nWe’re on a mission to empower people...</td>\n",
       "      <td>4.7</td>\n",
       "      <td>OJO Labs\\n4.7</td>\n",
       "      <td>Austin, TX</td>\n",
       "      <td>Austin, TX</td>\n",
       "      <td>201 to 500 employees</td>\n",
       "      <td>2015</td>\n",
       "      <td>...</td>\n",
       "      <td>132.0</td>\n",
       "      <td>TX</td>\n",
       "      <td>Austin</td>\n",
       "      <td>1</td>\n",
       "      <td>5</td>\n",
       "      <td>0</td>\n",
       "      <td>1</td>\n",
       "      <td>0</td>\n",
       "      <td>1</td>\n",
       "      <td>1</td>\n",
       "    </tr>\n",
       "    <tr>\n",
       "      <th>3</th>\n",
       "      <td>3</td>\n",
       "      <td>Full Stack Software Engineer</td>\n",
       "      <td>$107K-$157K (Glassdoor est.)</td>\n",
       "      <td>Corporate Traffic Logistics is a 28-year-old a...</td>\n",
       "      <td>4.2</td>\n",
       "      <td>Corporate Traffic Logistics\\n4.2</td>\n",
       "      <td>Jacksonville, FL</td>\n",
       "      <td>Jacksonville, FL</td>\n",
       "      <td>51 to 200 employees</td>\n",
       "      <td>1992</td>\n",
       "      <td>...</td>\n",
       "      <td>132.0</td>\n",
       "      <td>FL</td>\n",
       "      <td>Jacksonville</td>\n",
       "      <td>1</td>\n",
       "      <td>28</td>\n",
       "      <td>1</td>\n",
       "      <td>0</td>\n",
       "      <td>0</td>\n",
       "      <td>1</td>\n",
       "      <td>0</td>\n",
       "    </tr>\n",
       "    <tr>\n",
       "      <th>4</th>\n",
       "      <td>4</td>\n",
       "      <td>Software Engineer</td>\n",
       "      <td>$107K-$157K (Glassdoor est.)</td>\n",
       "      <td>Ungerboeck Software is looking to hire the bes...</td>\n",
       "      <td>4.0</td>\n",
       "      <td>Ungerboeck Software International\\n4.0</td>\n",
       "      <td>O'Fallon, MO</td>\n",
       "      <td>O'Fallon, MO</td>\n",
       "      <td>201 to 500 employees</td>\n",
       "      <td>1985</td>\n",
       "      <td>...</td>\n",
       "      <td>132.0</td>\n",
       "      <td>MO</td>\n",
       "      <td>O'Fallon</td>\n",
       "      <td>1</td>\n",
       "      <td>35</td>\n",
       "      <td>0</td>\n",
       "      <td>0</td>\n",
       "      <td>0</td>\n",
       "      <td>1</td>\n",
       "      <td>0</td>\n",
       "    </tr>\n",
       "  </tbody>\n",
       "</table>\n",
       "<p>5 rows × 28 columns</p>\n",
       "</div>"
      ],
      "text/plain": [
       "   Unnamed: 0                     Job Title               Salary Estimate  \\\n",
       "0           0             Software Engineer  $107K-$157K (Glassdoor est.)   \n",
       "1           1             Software Engineer  $107K-$157K (Glassdoor est.)   \n",
       "2           2  Full Stack Software Engineer  $107K-$157K (Glassdoor est.)   \n",
       "3           3  Full Stack Software Engineer  $107K-$157K (Glassdoor est.)   \n",
       "4           4             Software Engineer  $107K-$157K (Glassdoor est.)   \n",
       "\n",
       "                                     Job Description  Rating  \\\n",
       "0  MedBill is looking for a Software Engineer to ...     4.4   \n",
       "1  Job Description:\\nInfogroup is looking for top...     3.6   \n",
       "2  Why OJO?\\nWe’re on a mission to empower people...     4.7   \n",
       "3  Corporate Traffic Logistics is a 28-year-old a...     4.2   \n",
       "4  Ungerboeck Software is looking to hire the bes...     4.0   \n",
       "\n",
       "                             Company Name          Location      Headquarters  \\\n",
       "0                            MedBill\\n4.4         Boone, NC    Pittsburgh, PA   \n",
       "1                      Yes Marketing\\n3.6    Marshfield, WI       Chicago, IL   \n",
       "2                           OJO Labs\\n4.7        Austin, TX        Austin, TX   \n",
       "3        Corporate Traffic Logistics\\n4.2  Jacksonville, FL  Jacksonville, FL   \n",
       "4  Ungerboeck Software International\\n4.0      O'Fallon, MO      O'Fallon, MO   \n",
       "\n",
       "                   Size  Founded  ... Salary(Avg) State          City  \\\n",
       "0   51 to 200 employees     2005  ...       132.0    NC         Boone   \n",
       "1  201 to 500 employees     2000  ...       132.0    WI    Marshfield   \n",
       "2  201 to 500 employees     2015  ...       132.0    TX        Austin   \n",
       "3   51 to 200 employees     1992  ...       132.0    FL  Jacksonville   \n",
       "4  201 to 500 employees     1985  ...       132.0    MO      O'Fallon   \n",
       "\n",
       "  Position at HQ Company Age JavaScript  Python  C_plus  SQL AWS  \n",
       "0              0          15          1       0       0    1   0  \n",
       "1              0          20          0       0       0    0   0  \n",
       "2              1           5          0       1       0    1   1  \n",
       "3              1          28          1       0       0    1   0  \n",
       "4              1          35          0       0       0    1   0  \n",
       "\n",
       "[5 rows x 28 columns]"
      ]
     },
     "execution_count": 9,
     "metadata": {},
     "output_type": "execute_result"
    }
   ],
   "source": [
    "df.head()"
   ]
  },
  {
   "cell_type": "code",
   "execution_count": 10,
   "metadata": {},
   "outputs": [
    {
     "data": {
      "text/plain": [
       "Index(['Unnamed: 0', 'Job Title', 'Salary Estimate', 'Job Description',\n",
       "       'Rating', 'Company Name', 'Location', 'Headquarters', 'Size', 'Founded',\n",
       "       'Type of ownership', 'Industry', 'Sector', 'Revenue', 'Competitors',\n",
       "       'Company', 'min_sal', 'max_sal', 'Salary(Avg)', 'State', 'City',\n",
       "       'Position at HQ', 'Company Age', 'JavaScript', 'Python', 'C_plus',\n",
       "       'SQL', 'AWS'],\n",
       "      dtype='object')"
      ]
     },
     "execution_count": 10,
     "metadata": {},
     "output_type": "execute_result"
    }
   ],
   "source": [
    "df.columns"
   ]
  },
  {
   "cell_type": "code",
   "execution_count": 15,
   "metadata": {},
   "outputs": [
    {
     "data": {
      "text/plain": [
       "CA               191\n",
       "VA                61\n",
       "IL                59\n",
       "MA                55\n",
       "MD                52\n",
       "MI                45\n",
       "CT                41\n",
       "NY                36\n",
       "FL                35\n",
       "PA                35\n",
       "TX                30\n",
       "MN                29\n",
       "United States     25\n",
       "IN                24\n",
       "MO                23\n",
       "CO                23\n",
       "NC                18\n",
       "AL                17\n",
       "OH                17\n",
       "GA                17\n",
       "UT                17\n",
       "WA                16\n",
       "Remote            14\n",
       "AZ                14\n",
       "NJ                11\n",
       "WI                10\n",
       "NM                10\n",
       "SC                10\n",
       "OK                 8\n",
       "RI                 7\n",
       "KY                 7\n",
       "OR                 7\n",
       "AR                 6\n",
       "NE                 5\n",
       "NH                 4\n",
       "IA                 4\n",
       "NV                 3\n",
       "KS                 3\n",
       "LA                 2\n",
       "PR                 2\n",
       "ID                 2\n",
       "VT                 2\n",
       "WV                 1\n",
       "DC                 1\n",
       "MT                 1\n",
       "Name: State, dtype: int64"
      ]
     },
     "execution_count": 15,
     "metadata": {},
     "output_type": "execute_result"
    }
   ],
   "source": [
    "df.State.value_counts()"
   ]
  },
  {
   "cell_type": "code",
   "execution_count": 16,
   "metadata": {},
   "outputs": [],
   "source": [
    "df['num_comp'] = df['Competitors'].apply(lambda x: len(x.split(',')) if x != '-1' else 0)"
   ]
  },
  {
   "cell_type": "code",
   "execution_count": 17,
   "metadata": {},
   "outputs": [
    {
     "data": {
      "text/plain": [
       "0                                        -1\n",
       "1                                        -1\n",
       "2                                        -1\n",
       "3                                        -1\n",
       "4                                        -1\n",
       "                       ...                 \n",
       "995                                      -1\n",
       "996                                      -1\n",
       "997    Applied Materials, KLA, Lam Research\n",
       "998                                      -1\n",
       "999                                      -1\n",
       "Name: Competitors, Length: 1000, dtype: object"
      ]
     },
     "execution_count": 17,
     "metadata": {},
     "output_type": "execute_result"
    }
   ],
   "source": [
    "df['Competitors']"
   ]
  },
  {
   "cell_type": "code",
   "execution_count": 21,
   "metadata": {},
   "outputs": [],
   "source": [
    "df['Company'] = df.Company.apply(lambda x: x.replace('\\n', ''))"
   ]
  },
  {
   "cell_type": "code",
   "execution_count": 23,
   "metadata": {},
   "outputs": [
    {
     "data": {
      "text/plain": [
       "0                                MedBill\n",
       "1                          Yes Marketing\n",
       "2                               OJO Labs\n",
       "3            Corporate Traffic Logistics\n",
       "4      Ungerboeck Software International\n",
       "                     ...                \n",
       "995            Space Dynamics Laboratory\n",
       "996                       MD Helicopters\n",
       "997                                 ASML\n",
       "998                                 ASML\n",
       "999                 Moderna Therapeutics\n",
       "Name: Company, Length: 1000, dtype: object"
      ]
     },
     "execution_count": 23,
     "metadata": {},
     "output_type": "execute_result"
    }
   ],
   "source": [
    "df['Company']"
   ]
  },
  {
   "cell_type": "code",
   "execution_count": 24,
   "metadata": {},
   "outputs": [
    {
     "data": {
      "text/html": [
       "<div>\n",
       "<style scoped>\n",
       "    .dataframe tbody tr th:only-of-type {\n",
       "        vertical-align: middle;\n",
       "    }\n",
       "\n",
       "    .dataframe tbody tr th {\n",
       "        vertical-align: top;\n",
       "    }\n",
       "\n",
       "    .dataframe thead th {\n",
       "        text-align: right;\n",
       "    }\n",
       "</style>\n",
       "<table border=\"1\" class=\"dataframe\">\n",
       "  <thead>\n",
       "    <tr style=\"text-align: right;\">\n",
       "      <th></th>\n",
       "      <th>Unnamed: 0</th>\n",
       "      <th>Rating</th>\n",
       "      <th>Founded</th>\n",
       "      <th>min_sal</th>\n",
       "      <th>max_sal</th>\n",
       "      <th>Salary(Avg)</th>\n",
       "      <th>Position at HQ</th>\n",
       "      <th>Company Age</th>\n",
       "      <th>JavaScript</th>\n",
       "      <th>Python</th>\n",
       "      <th>C_plus</th>\n",
       "      <th>SQL</th>\n",
       "      <th>AWS</th>\n",
       "      <th>num_comp</th>\n",
       "    </tr>\n",
       "  </thead>\n",
       "  <tbody>\n",
       "    <tr>\n",
       "      <th>count</th>\n",
       "      <td>1000.000000</td>\n",
       "      <td>1000.000000</td>\n",
       "      <td>1000.000000</td>\n",
       "      <td>1000.000000</td>\n",
       "      <td>1000.000000</td>\n",
       "      <td>1000.000000</td>\n",
       "      <td>1000.00000</td>\n",
       "      <td>1000.000000</td>\n",
       "      <td>1000.000000</td>\n",
       "      <td>1000.00000</td>\n",
       "      <td>1000.000000</td>\n",
       "      <td>1000.000000</td>\n",
       "      <td>1000.000000</td>\n",
       "      <td>1000.000000</td>\n",
       "    </tr>\n",
       "    <tr>\n",
       "      <th>mean</th>\n",
       "      <td>499.500000</td>\n",
       "      <td>3.746100</td>\n",
       "      <td>1265.359000</td>\n",
       "      <td>64.616000</td>\n",
       "      <td>109.790000</td>\n",
       "      <td>87.203000</td>\n",
       "      <td>0.36000</td>\n",
       "      <td>24.699000</td>\n",
       "      <td>0.283000</td>\n",
       "      <td>0.25600</td>\n",
       "      <td>0.228000</td>\n",
       "      <td>0.391000</td>\n",
       "      <td>0.269000</td>\n",
       "      <td>0.566000</td>\n",
       "    </tr>\n",
       "    <tr>\n",
       "      <th>std</th>\n",
       "      <td>288.819436</td>\n",
       "      <td>1.044086</td>\n",
       "      <td>952.818319</td>\n",
       "      <td>18.603404</td>\n",
       "      <td>26.952112</td>\n",
       "      <td>19.900435</td>\n",
       "      <td>0.48024</td>\n",
       "      <td>36.693198</td>\n",
       "      <td>0.450682</td>\n",
       "      <td>0.43664</td>\n",
       "      <td>0.419753</td>\n",
       "      <td>0.488219</td>\n",
       "      <td>0.443662</td>\n",
       "      <td>1.098568</td>\n",
       "    </tr>\n",
       "    <tr>\n",
       "      <th>min</th>\n",
       "      <td>0.000000</td>\n",
       "      <td>-1.000000</td>\n",
       "      <td>-1.000000</td>\n",
       "      <td>34.000000</td>\n",
       "      <td>72.000000</td>\n",
       "      <td>54.000000</td>\n",
       "      <td>0.00000</td>\n",
       "      <td>-1.000000</td>\n",
       "      <td>0.000000</td>\n",
       "      <td>0.00000</td>\n",
       "      <td>0.000000</td>\n",
       "      <td>0.000000</td>\n",
       "      <td>0.000000</td>\n",
       "      <td>0.000000</td>\n",
       "    </tr>\n",
       "    <tr>\n",
       "      <th>25%</th>\n",
       "      <td>249.750000</td>\n",
       "      <td>3.500000</td>\n",
       "      <td>-1.000000</td>\n",
       "      <td>48.000000</td>\n",
       "      <td>92.000000</td>\n",
       "      <td>74.000000</td>\n",
       "      <td>0.00000</td>\n",
       "      <td>-1.000000</td>\n",
       "      <td>0.000000</td>\n",
       "      <td>0.00000</td>\n",
       "      <td>0.000000</td>\n",
       "      <td>0.000000</td>\n",
       "      <td>0.000000</td>\n",
       "      <td>0.000000</td>\n",
       "    </tr>\n",
       "    <tr>\n",
       "      <th>50%</th>\n",
       "      <td>499.500000</td>\n",
       "      <td>3.900000</td>\n",
       "      <td>1968.000000</td>\n",
       "      <td>67.000000</td>\n",
       "      <td>104.000000</td>\n",
       "      <td>83.500000</td>\n",
       "      <td>0.00000</td>\n",
       "      <td>14.000000</td>\n",
       "      <td>0.000000</td>\n",
       "      <td>0.00000</td>\n",
       "      <td>0.000000</td>\n",
       "      <td>0.000000</td>\n",
       "      <td>0.000000</td>\n",
       "      <td>0.000000</td>\n",
       "    </tr>\n",
       "    <tr>\n",
       "      <th>75%</th>\n",
       "      <td>749.250000</td>\n",
       "      <td>4.300000</td>\n",
       "      <td>2000.000000</td>\n",
       "      <td>76.000000</td>\n",
       "      <td>134.000000</td>\n",
       "      <td>101.000000</td>\n",
       "      <td>1.00000</td>\n",
       "      <td>35.000000</td>\n",
       "      <td>1.000000</td>\n",
       "      <td>1.00000</td>\n",
       "      <td>0.000000</td>\n",
       "      <td>1.000000</td>\n",
       "      <td>1.000000</td>\n",
       "      <td>0.000000</td>\n",
       "    </tr>\n",
       "    <tr>\n",
       "      <th>max</th>\n",
       "      <td>999.000000</td>\n",
       "      <td>5.000000</td>\n",
       "      <td>2019.000000</td>\n",
       "      <td>110.000000</td>\n",
       "      <td>175.000000</td>\n",
       "      <td>132.000000</td>\n",
       "      <td>1.00000</td>\n",
       "      <td>201.000000</td>\n",
       "      <td>1.000000</td>\n",
       "      <td>1.00000</td>\n",
       "      <td>1.000000</td>\n",
       "      <td>1.000000</td>\n",
       "      <td>1.000000</td>\n",
       "      <td>3.000000</td>\n",
       "    </tr>\n",
       "  </tbody>\n",
       "</table>\n",
       "</div>"
      ],
      "text/plain": [
       "        Unnamed: 0       Rating      Founded      min_sal      max_sal  \\\n",
       "count  1000.000000  1000.000000  1000.000000  1000.000000  1000.000000   \n",
       "mean    499.500000     3.746100  1265.359000    64.616000   109.790000   \n",
       "std     288.819436     1.044086   952.818319    18.603404    26.952112   \n",
       "min       0.000000    -1.000000    -1.000000    34.000000    72.000000   \n",
       "25%     249.750000     3.500000    -1.000000    48.000000    92.000000   \n",
       "50%     499.500000     3.900000  1968.000000    67.000000   104.000000   \n",
       "75%     749.250000     4.300000  2000.000000    76.000000   134.000000   \n",
       "max     999.000000     5.000000  2019.000000   110.000000   175.000000   \n",
       "\n",
       "       Salary(Avg)  Position at HQ  Company Age   JavaScript      Python  \\\n",
       "count  1000.000000      1000.00000  1000.000000  1000.000000  1000.00000   \n",
       "mean     87.203000         0.36000    24.699000     0.283000     0.25600   \n",
       "std      19.900435         0.48024    36.693198     0.450682     0.43664   \n",
       "min      54.000000         0.00000    -1.000000     0.000000     0.00000   \n",
       "25%      74.000000         0.00000    -1.000000     0.000000     0.00000   \n",
       "50%      83.500000         0.00000    14.000000     0.000000     0.00000   \n",
       "75%     101.000000         1.00000    35.000000     1.000000     1.00000   \n",
       "max     132.000000         1.00000   201.000000     1.000000     1.00000   \n",
       "\n",
       "            C_plus          SQL          AWS     num_comp  \n",
       "count  1000.000000  1000.000000  1000.000000  1000.000000  \n",
       "mean      0.228000     0.391000     0.269000     0.566000  \n",
       "std       0.419753     0.488219     0.443662     1.098568  \n",
       "min       0.000000     0.000000     0.000000     0.000000  \n",
       "25%       0.000000     0.000000     0.000000     0.000000  \n",
       "50%       0.000000     0.000000     0.000000     0.000000  \n",
       "75%       0.000000     1.000000     1.000000     0.000000  \n",
       "max       1.000000     1.000000     1.000000     3.000000  "
      ]
     },
     "execution_count": 24,
     "metadata": {},
     "output_type": "execute_result"
    }
   ],
   "source": [
    "df.describe()"
   ]
  },
  {
   "cell_type": "code",
   "execution_count": 26,
   "metadata": {},
   "outputs": [
    {
     "data": {
      "image/png": "[encoded data removed]",
      "text/plain": [
       "<Figure size 432x288 with 1 Axes>"
      ]
     },
     "metadata": {
      "needs_background": "light"
     },
     "output_type": "display_data"
    }
   ],
   "source": [
    "df.Rating.hist()\n",
    "plt.show()"
   ]
  },
  {
   "cell_type": "code",
   "execution_count": 29,
   "metadata": {},
   "outputs": [
    {
     "data": {
      "image/png": "[encoded data removed]",
      "text/plain": [
       "<Figure size 432x288 with 1 Axes>"
      ]
     },
     "metadata": {
      "needs_background": "light"
     },
     "output_type": "display_data"
    }
   ],
   "source": [
    "df['Salary(Avg)'].hist()\n",
    "plt.show()"
   ]
  },
  {
   "cell_type": "code",
   "execution_count": 31,
   "metadata": {},
   "outputs": [
    {
     "data": {
      "image/png": "[encoded data removed]",
      "text/plain": [
       "<Figure size 432x288 with 1 Axes>"
      ]
     },
     "metadata": {
      "needs_background": "light"
     },
     "output_type": "display_data"
    }
   ],
   "source": [
    "df['Company Age'].hist()\n",
    "plt.show()"
   ]
  },
  {
   "cell_type": "code",
   "execution_count": 32,
   "metadata": {},
   "outputs": [
    {
     "data": {
      "image/png": "[encoded data removed]",
      "text/plain": [
       "<Figure size 432x288 with 1 Axes>"
      ]
     },
     "metadata": {
      "needs_background": "light"
     },
     "output_type": "display_data"
    }
   ],
   "source": [
    "df.boxplot(column = ['Company Age','Salary(Avg)','Rating'])\n",
    "plt.show()"
   ]
  },
  {
   "cell_type": "code",
   "execution_count": 33,
   "metadata": {},
   "outputs": [
    {
     "data": {
      "image/png": "[encoded data removed]",
      "text/plain": [
       "<Figure size 432x288 with 1 Axes>"
      ]
     },
     "metadata": {
      "needs_background": "light"
     },
     "output_type": "display_data"
    }
   ],
   "source": [
    "df.boxplot(column = 'Rating')\n",
    "plt.show()"
   ]
  },
  {
   "cell_type": "code",
   "execution_count": null,
   "metadata": {},
   "outputs": [],
   "source": [
    "df[['age','avg_salary','Rating']].corr()"
   ]
  }
 ],
 "metadata": {
  "kernelspec": {
   "display_name": "Python 3",
   "language": "python",
   "name": "python3"
  },
  "language_info": {
   "codemirror_mode": {
    "name": "ipython",
    "version": 3
   },
   "file_extension": ".py",
   "mimetype": "text/x-python",
   "name": "python",
   "nbconvert_exporter": "python",
   "pygments_lexer": "ipython3",
   "version": "3.7.6"
  }
 },
 "nbformat": 4,
 "nbformat_minor": 4
}
