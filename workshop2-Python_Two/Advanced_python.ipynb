{
 "cells": [
  {
   "cell_type": "code",
   "execution_count": 1,
   "metadata": {},
   "outputs": [],
   "source": [
    "#importing modules\n",
    "#Functions\n",
    "#Lambda Functions\n",
    "#if name == main"
   ]
  },
  {
   "cell_type": "markdown",
   "metadata": {},
   "source": [
    "# Advanced Python\n",
    "For this workshop we're going to dive deeper into python"
   ]
  },
  {
   "cell_type": "markdown",
   "metadata": {},
   "source": [
    "## importing Modules\n",
    "When importing modules we usually keep that at the top of our script\n",
    "- Python modules are the equivalent of java packages\n",
    "\n",
    "Let's take a look"
   ]
  },
  {
   "cell_type": "code",
   "execution_count": 2,
   "metadata": {},
   "outputs": [
    {
     "name": "stdout",
     "output_type": "stream",
     "text": [
      "3.141592653589793\n"
     ]
    }
   ],
   "source": [
    "#To use math functions we must import the math module\n",
    "import math\n",
    "\n",
    "x = math.pi #Here we are calling the math module to use its pi function\n",
    "print(x)"
   ]
  },
  {
   "cell_type": "code",
   "execution_count": 3,
   "metadata": {},
   "outputs": [
    {
     "name": "stdout",
     "output_type": "stream",
     "text": [
      "3.141592653589793\n"
     ]
    }
   ],
   "source": [
    "#We can also give aliases to packages\n",
    "import math as m #You can change this alias to what you want\n",
    "\n",
    "x = m.pi #We're doing the same as the code above except we call math with an alias 'm'\n",
    "print(x)"
   ]
  },
  {
   "cell_type": "markdown",
   "metadata": {},
   "source": [
    "## Functions\n",
    "- A function is a block of code that only runs when it is called\n",
    "- Functions take data and can return data as a result\n",
    "- We typically use functions when we need a block of code to execute various times\n",
    "- A function is defined by the def keyword and then the name of the function"
   ]
  },
  {
   "cell_type": "code",
   "execution_count": 4,
   "metadata": {},
   "outputs": [],
   "source": [
    "def my_function(): #Here we defined a simple function\n",
    "    print(\"Python is easy to learn\")"
   ]
  },
  {
   "cell_type": "markdown",
   "metadata": {},
   "source": [
    "Notice above how our function didn't print anything\n",
    "In order for it to execute we must **call it**"
   ]
  },
  {
   "cell_type": "code",
   "execution_count": 5,
   "metadata": {},
   "outputs": [
    {
     "name": "stdout",
     "output_type": "stream",
     "text": [
      "Python is easy to learn\n"
     ]
    }
   ],
   "source": [
    "def my_function():\n",
    "    print(\"Python is easy to learn\")\n",
    "\n",
    "my_function() #Calling function"
   ]
  },
  {
   "cell_type": "markdown",
   "metadata": {},
   "source": [
    "### Function Arguements\n",
    "- Our functions can also take data, this is called an arguement\n",
    "- you can add as many arguements as you want, just seperate them by commas\n",
    "- When you call your function you must provide as many arguements as parameters listed\n",
    "- You don't have to specify the type of the parameter like in other languages"
   ]
  },
  {
   "cell_type": "code",
   "execution_count": 8,
   "metadata": {},
   "outputs": [
    {
     "name": "stdout",
     "output_type": "stream",
     "text": [
      "Bob attends SDSU\n",
      "John attends SDSU\n"
     ]
    }
   ],
   "source": [
    "def a_function(student_name): #Here in the paranthesis we define number of parameters\n",
    "    print(student_name + \" attends SDSU\") #We use arguement in print statement\n",
    "\n",
    "a_function(\"Bob\") #Call function and provide arguement\n",
    "a_function(\"John\")"
   ]
  },
  {
   "cell_type": "code",
   "execution_count": 11,
   "metadata": {},
   "outputs": [
    {
     "name": "stdout",
     "output_type": "stream",
     "text": [
      "Hector's redid is:  1082954\n"
     ]
    }
   ],
   "source": [
    "def another_function(name, redid): #Here we have two parameters\n",
    "    print(name + \"'s redid is: \", redid)\n",
    "    \n",
    "another_function(\"Hector\" , 1082954) #arguements fill parameters in order so first arguement gets first paramter"
   ]
  },
  {
   "cell_type": "markdown",
   "metadata": {},
   "source": [
    "### Arbitrary Arguements\n",
    "- If the number of arguements is unknowm, add a * before the parameter name\n",
    "- This turns the parameter into a tuple that you can access\n",
    "- A tuple is just a list that you can't modify but only access"
   ]
  },
  {
   "cell_type": "code",
   "execution_count": 14,
   "metadata": {},
   "outputs": [
    {
     "name": "stdout",
     "output_type": "stream",
     "text": [
      "Hector\n",
      "Matt\n",
      "Antoine\n",
      "Andrew\n",
      "Brittany\n",
      "student at index 1 is Matt\n"
     ]
    }
   ],
   "source": [
    "def student_list(*students): #Accepting arbitrary arguements\n",
    "    for x in students: #We can iterate through tuple\n",
    "        print(x)\n",
    "        \n",
    "    print(\"student at index 1 is \" + students[1]) #or we can access specific index in tuple\n",
    "    \n",
    "student_list(\"Hector\",\"Matt\",\"Antoine\",\"Andrew\",\"Brittany\")"
   ]
  },
  {
   "cell_type": "markdown",
   "metadata": {},
   "source": [
    "### Return Values\n",
    "- Functions also let you return values\n",
    "- Using the **return** statement returns any value you give it"
   ]
  },
  {
   "cell_type": "code",
   "execution_count": 15,
   "metadata": {},
   "outputs": [
    {
     "name": "stdout",
     "output_type": "stream",
     "text": [
      "15\n",
      "50\n"
     ]
    }
   ],
   "source": [
    "def mult_by_five(x):\n",
    "    return x * 5 #returning x value times 5\n",
    "\n",
    "print(mult_by_five(3))\n",
    "print(mult_by_five(10))"
   ]
  },
  {
   "cell_type": "code",
   "execution_count": null,
   "metadata": {},
   "outputs": [],
   "source": []
  }
 ],
 "metadata": {
  "kernelspec": {
   "display_name": "Python 3",
   "language": "python",
   "name": "python3"
  },
  "language_info": {
   "codemirror_mode": {
    "name": "ipython",
    "version": 3
   },
   "file_extension": ".py",
   "mimetype": "text/x-python",
   "name": "python",
   "nbconvert_exporter": "python",
   "pygments_lexer": "ipython3",
   "version": "3.8.3"
  }
 },
 "nbformat": 4,
 "nbformat_minor": 4
}
