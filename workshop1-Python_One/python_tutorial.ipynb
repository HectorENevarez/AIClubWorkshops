{
 "cells": [
  {
   "cell_type": "markdown",
   "metadata": {},
   "source": [
    "# Python Tutorial\n",
    "## Before we get started, lets look at some quick facts about python:\n",
    "- Developed by Guido van Rossum in the late eighties\n",
    "- Python is an easy to use high level language\n",
    "- We like to use it for AI because of its extensive list of libraries; Tensorflow, Numpy, Pandas, etc."
   ]
  },
  {
   "cell_type": "markdown",
   "metadata": {},
   "source": [
    "## Lets get Started!"
   ]
  },
  {
   "cell_type": "markdown",
   "metadata": {},
   "source": [
    "### 1. Data types\n",
    "- Python variable types do not need to be explicitly declared\n",
    "- This is different from statically typed languages such as Java because your not specifying an integer or a string, it is automatically assumed\n",
    "- Python has six standard data types\n",
    "\n",
    "#### Below we'll see the first 3 data types(Integer, Float, Complex, and boolean):"
   ]
  },
  {
   "cell_type": "code",
   "execution_count": 6,
   "metadata": {},
   "outputs": [
    {
     "name": "stdout",
     "output_type": "stream",
     "text": [
      "100 is of type <class 'int'>\n",
      "10.5 is of type <class 'float'>\n",
      "(9+7j) is of type <class 'complex'>\n",
      "False is of type <class 'bool'>\n"
     ]
    }
   ],
   "source": [
    "number = 100 #integer because it's a whole number\n",
    "other_number = 10.5 #float because it has decimal\n",
    "complex_num = 9+7j #the j makes it a complex number\n",
    "bool_variable = False\n",
    "\n",
    "print(number, \"is of type\", type(number))\n",
    "print(other_number, \"is of type\", type(other_number))\n",
    "print(complex_num, \"is of type\", type(complex_num))\n",
    "print(bool_variable, \"is of type\", type(bool_variable))"
   ]
  },
  {
   "cell_type": "code",
   "execution_count": 5,
   "metadata": {},
   "outputs": [],
   "source": [
    "# You can use this square to mess around with some code(just click it once)"
   ]
  },
  {
   "cell_type": "markdown",
   "metadata": {},
   "source": [
    "#### Strings\n",
    "- Strings are a sequence of characters in python\n",
    "- Strings can be represented using either single or double quotes\n",
    "- You can use either quote types in a string because it allows you to include quotes inside of a string\n",
    "- Using a backslack(\\) also allows you to use characters you often might not be able to use in a string"
   ]
  },
  {
   "cell_type": "code",
   "execution_count": 3,
   "metadata": {},
   "outputs": [
    {
     "name": "stdout",
     "output_type": "stream",
     "text": [
      "\" This is a sentence \" is of type <class 'str'>\n",
      "\" This is another sentence \" is of type <class 'str'>\n"
     ]
    }
   ],
   "source": [
    "sentence = \"This is a sentence\" #example of a string\n",
    "another_sentence = 'This is another sentence' \n",
    "\n",
    "print('\"' ,sentence, '\"' , \"is of type\", type(sentence))\n",
    "print('\"' ,another_sentence, \"\\\"\" , \"is of type\", type(another_sentence))"
   ]
  },
  {
   "cell_type": "markdown",
   "metadata": {},
   "source": [
    "#### Slicing a string\n",
    "- String can be sliced to either isolate a single character or a section of a string\n",
    "- These slices are immuatable and can't be changed\n",
    "- Python is 0 indexed so when slicing the first char starts at 0"
   ]
  },
  {
   "cell_type": "code",
   "execution_count": 4,
   "metadata": {},
   "outputs": [
    {
     "name": "stdout",
     "output_type": "stream",
     "text": [
      "example[2] =  i\n",
      "example[2:4] =  his is\n",
      "example[:] =  This is a sentence\n"
     ]
    }
   ],
   "source": [
    "example = \"This is a sentence\"\n",
    "\n",
    "print(\"example[2] = \" , example[2]) #Grabbed single character\n",
    "print(\"example[2:4] = \" , example[1:7]) #Prints from interval 2 to 4\n",
    "print(\"example[:] = \" , example[:]) #prints range from 0 to end"
   ]
  },
  {
   "cell_type": "markdown",
   "metadata": {},
   "source": [
    "#### List\n",
    "- A list is a collection of variable denoted by square brackets\n",
    "- This is similar to an ArrayList in Java\n",
    "- The data types stored within the lists can all be different"
   ]
  },
  {
   "cell_type": "code",
   "execution_count": 26,
   "metadata": {},
   "outputs": [
    {
     "name": "stdout",
     "output_type": "stream",
     "text": [
      "[1, 5, 5, 9] is of type <class 'list'>\n",
      "[1, 20.5, 'Hello World', False] is of type <class 'list'>\n",
      "\n",
      "\n",
      "[1, 20.5]\n",
      "5\n",
      "['python is easy', 5, 5, 9]\n"
     ]
    }
   ],
   "source": [
    "example_list = [1, 5 , 5 , 9] #This is a list of integers\n",
    "different_data_types = [1 , 20.5, \"Hello World\", False] #This list has different data types within and it still works\n",
    "\n",
    "print(example_list, \"is of type\", type(example_list))\n",
    "print(different_data_types, \"is of type\", type(example_list))\n",
    "\n",
    "#We can also choose a specific index, a range of indexes, or change a value\n",
    "specific_item = example_list[2] #index 2\n",
    "list_of_a_list = different_data_types[:2] #range from 0 to 2\n",
    "example_list[0] = \"python is easy\" #changing single index\n",
    "\n",
    "print(\"\\n\")\n",
    "print(list_of_a_list)\n",
    "print(specific_item )\n",
    "print(example_list)"
   ]
  },
  {
   "cell_type": "markdown",
   "metadata": {},
   "source": [
    "#### List methods\n",
    "now lets look at different list methods\n",
    "- **append:** Adds to the end of the list\n",
    "- **insert:** Adds to specified position\n",
    "- **remove:** removes first instance of specified item\n",
    "- **pop:** removes specified index\n",
    "- **copy:** copies list\n",
    "- **clear:** empties list\n",
    "\n",
    "These are only a few of the many built-in methods that lists provice"
   ]
  },
  {
   "cell_type": "code",
   "execution_count": 31,
   "metadata": {},
   "outputs": [
    {
     "name": "stdout",
     "output_type": "stream",
     "text": [
      "original list:  [1, 2, 3, 4, 5, 1]\n",
      "append method:  [1, 2, 3, 4, 5, 1, 'random string']\n",
      "insert method: [1, 2, 3, 'False', 4, 5, 1, 'random string']\n",
      "remove method:  [2, 3, 'False', 4, 5, 1, 'random string']\n",
      "pop method:  [2, 3, 4, 5, 1, 'random string']\n",
      "copy method:  [2, 3, 4, 5, 1, 'random string']\n",
      "clear method:  []\n"
     ]
    }
   ],
   "source": [
    "this_list = [1 , 2 , 3 , 4 , 5 , 1]\n",
    "print(\"original list: \", this_list)\n",
    "\n",
    "this_list.append(\"random string\") #adds string to end of list\n",
    "print(\"append method: \", this_list)\n",
    "\n",
    "this_list.insert(3, \"False\") #insert false at index 3\n",
    "print(\"insert method:\", this_list)\n",
    "\n",
    "this_list.remove(1) #remove the number 1\n",
    "print(\"remove method: \", this_list)\n",
    "\n",
    "this_list.pop(2) #if nothing is specified then last item is popped off\n",
    "print(\"pop method: \", this_list)\n",
    "\n",
    "copy_this_list = this_list.copy() #stores copy of list in variable\n",
    "print(\"copy method: \", copy_this_list)\n",
    "\n",
    "this_list.clear()\n",
    "print(\"clear method: \", this_list)"
   ]
  },
  {
   "cell_type": "markdown",
   "metadata": {},
   "source": [
    "#### Dictionaries\n",
    "- A dictionary is a collecion with key value pairs (Key:Value)\n",
    "- This is the same as a hashmap in java\n",
    "- The hashmap is declared through the use of curly braces\n",
    "- Dictionaries are optimized for retrieving data through the use of a key, which returns a value"
   ]
  },
  {
   "cell_type": "code",
   "execution_count": 36,
   "metadata": {},
   "outputs": [
    {
     "name": "stdout",
     "output_type": "stream",
     "text": [
      "{'Key': 'Value', 'REDID': 1923922, 'Addres': '1521 Drive'} is of type <class 'dict'>\n",
      "{'A': 1, 'B': 2, 'C': 3, 'D': 4} is of type <class 'dict'>\n"
     ]
    }
   ],
   "source": [
    "this_dictionary = {\"Key\" : \"Value\" , \"REDID\" : 1923922 , \"Addres\" : \"1521 Drive\"} #Declaring dictoinary\n",
    "print(this_dictionary, \"is of type\", type(this_dictionary))\n",
    "\n",
    "#May also be written like this:\n",
    "abc_num_conversion = {\n",
    "    \"A\":1,\n",
    "    \"B\":2,\n",
    "    \"C\":3,\n",
    "    \"D\":4\n",
    "}\n",
    "print(abc_num_conversion, \"is of type\", type(abc_num_conversion))"
   ]
  },
  {
   "cell_type": "code",
   "execution_count": null,
   "metadata": {},
   "outputs": [],
   "source": [
    "#"
   ]
  }
 ],
 "metadata": {
  "kernelspec": {
   "display_name": "Python 3",
   "language": "python",
   "name": "python3"
  },
  "language_info": {
   "codemirror_mode": {
    "name": "ipython",
    "version": 3
   },
   "file_extension": ".py",
   "mimetype": "text/x-python",
   "name": "python",
   "nbconvert_exporter": "python",
   "pygments_lexer": "ipython3",
   "version": "3.8.3"
  }
 },
 "nbformat": 4,
 "nbformat_minor": 4
}
