{
 "cells": [
  {
   "cell_type": "markdown",
   "metadata": {},
   "source": [
    "# Python Tutorial\n",
    "## Before we get started, lets look at some quick facts about python:\n",
    "- Developed by Guido van Rossum in the late eighties\n",
    "- Python is an easy to use high level language\n",
    "- We like to use it for AI because of its extensive list of libraries; Tensorflow, Numpy, Pandas, etc."
   ]
  },
  {
   "cell_type": "markdown",
   "metadata": {},
   "source": [
    "## Lets get Started!"
   ]
  },
  {
   "cell_type": "markdown",
   "metadata": {},
   "source": [
    "### 0. Introduction\n",
    "- Python is different from many languages since it does not use a semicolon"
   ]
  },
  {
   "cell_type": "code",
   "execution_count": null,
   "metadata": {},
   "outputs": [],
   "source": [
    "number = 0 #this is a valid line in python, it might look different from what you're used to"
   ]
  },
  {
   "cell_type": "markdown",
   "metadata": {},
   "source": [
    "#### Print statements\n",
    "- In order to print in python you just use the print method\n",
    "- if you want to print different variables you seperate it with commas\n",
    "- if you want no space between print statements you have to declare it"
   ]
  },
  {
   "cell_type": "code",
   "execution_count": 2,
   "metadata": {},
   "outputs": [],
   "source": [
    "print(\"Hello World\") #Printing a string\n",
    "\n",
    "name_1 = \"Fred\" #Declaring two strings\n",
    "name_2 = \"Jason\"\n",
    "\n",
    "print(name_1, name_2) #Printing two variable in one print statement\n",
    "print(name_1, name_2, sep='') #Here we remove the separation between two variables"
   ]
  },
  {
   "cell_type": "markdown",
   "metadata": {},
   "source": [
    "### 1. Data types\n",
    "- Python variable types do not need to be explicitly declared\n",
    "- This is different from statically typed languages such as Java because you're not specifying an integer or a string, it is automatically assumed\n",
    "- Python has six standard data types\n",
    "\n",
    "#### Below we'll see the first 4 data types(Integer, Float, Complex, and boolean):"
   ]
  },
  {
   "cell_type": "code",
   "execution_count": 3,
   "metadata": {},
   "outputs": [
    {
     "name": "stdout",
     "output_type": "stream",
     "text": [
      "100 is of type <class 'int'>\n",
      "10.5 is of type <class 'float'>\n",
      "(9+7j) is of type <class 'complex'>\n",
      "False is of type <class 'bool'>\n"
     ]
    }
   ],
   "source": [
    "number = 100 #integer because it's a whole number\n",
    "other_number = 10.5 #float because it has decimal\n",
    "complex_num = 9+7j #the j makes it a complex number\n",
    "bool_variable = False\n",
    "\n",
    "print(number, \"is of type\", type(number))\n",
    "print(other_number, \"is of type\", type(other_number))\n",
    "print(complex_num, \"is of type\", type(complex_num))\n",
    "print(bool_variable, \"is of type\", type(bool_variable))"
   ]
  },
  {
   "cell_type": "markdown",
   "metadata": {},
   "source": [
    "#### Strings\n",
    "- Strings are a sequence of characters in python\n",
    "- Strings can be represented using either single or double quotes\n",
    "- You can use either quote types in a string because it allows you to include quotes inside of a string\n",
    "- Using a backslash or escape character(\\) also allows you to use characters you often might not be able to use in a string"
   ]
  },
  {
   "cell_type": "code",
   "execution_count": 4,
   "metadata": {},
   "outputs": [
    {
     "name": "stdout",
     "output_type": "stream",
     "text": [
      "\" This is a sentence \" is of type <class 'str'>\n",
      "\" This is another sentence \" is of type <class 'str'>\n"
     ]
    }
   ],
   "source": [
    "sentence = \"This is a sentence\" #example of a string\n",
    "another_sentence = 'This is another sentence' \n",
    "\n",
    "print('\"' ,sentence, '\"' , \"is of type\", type(sentence))\n",
    "print('\"' ,another_sentence, \"\\\"\" , \"is of type\", type(another_sentence))"
   ]
  },
  {
   "cell_type": "markdown",
   "metadata": {},
   "source": [
    "#### Slicing a string\n",
    "- Strings can be sliced to either isolate a single character or a section of a string\n",
    "- These slices are immuatable and can't be changed\n",
    "- Python is 0 indexed so when slicing the first char starts at 0"
   ]
  },
  {
   "cell_type": "code",
   "execution_count": 5,
   "metadata": {},
   "outputs": [
    {
     "name": "stdout",
     "output_type": "stream",
     "text": [
      "example[2] =  i\n",
      "example[1:7] =  his is\n",
      "example[:] =  This is a sentence\n"
     ]
    }
   ],
   "source": [
    "example = \"This is a sentence\"\n",
    "\n",
    "print(\"example[2] = \" , example[2]) #Grabbed single character\n",
    "print(\"example[1:7] = \" , example[1:7]) #Prints from interval 1 to 7\n",
    "print(\"example[:] = \" , example[:]) #prints range from 0 to end"
   ]
  },
  {
   "cell_type": "markdown",
   "metadata": {},
   "source": [
    "#### List\n",
    "- A list is a collection of variables denoted by square brackets\n",
    "- This is similar to an ArrayList in Java\n",
    "- The data types stored within the lists can all be different"
   ]
  },
  {
   "cell_type": "code",
   "execution_count": 6,
   "metadata": {},
   "outputs": [
    {
     "name": "stdout",
     "output_type": "stream",
     "text": [
      "[1, 5, 5, 9] is of type <class 'list'>\n",
      "[1, 20.5, 'Hello World', False] is of type <class 'list'>\n",
      "\n",
      "\n",
      "5\n",
      "[1, 20.5]\n",
      "['python is easy', 5, 5, 9]\n"
     ]
    }
   ],
   "source": [
    "example_list = [1, 5 , 5 , 9] #This is a list of integers\n",
    "different_data_types = [1 , 20.5, \"Hello World\", False] #This list has different data types within and it still works\n",
    "\n",
    "print(example_list, \"is of type\", type(example_list))\n",
    "print(different_data_types, \"is of type\", type(example_list))\n",
    "\n",
    "#We can also choose a specific index, a range of indexes, or change a value\n",
    "specific_item = example_list[2] #index 2\n",
    "list_of_a_list = different_data_types[:2] #range from 0 to 2\n",
    "example_list[0] = \"python is easy\" #changing single index\n",
    "\n",
    "print(\"\\n\")\n",
    "print(specific_item)\n",
    "print(list_of_a_list)\n",
    "print(example_list)"
   ]
  },
  {
   "cell_type": "markdown",
   "metadata": {},
   "source": [
    "#### List methods\n",
    "Now lets look at different list methods\n",
    "- **append:** Adds to the end of the list\n",
    "- **insert:** Adds to specified position\n",
    "- **remove:** removes first instance of specified item\n",
    "- **pop:** removes specified index\n",
    "- **copy:** copies list\n",
    "- **clear:** empties list\n",
    "\n",
    "These are only a few of the many built-in methods that lists provice"
   ]
  },
  {
   "cell_type": "code",
   "execution_count": 7,
   "metadata": {},
   "outputs": [
    {
     "name": "stdout",
     "output_type": "stream",
     "text": [
      "original list:  [1, 2, 3, 4, 5, 1]\n",
      "append method:  [1, 2, 3, 4, 5, 1, 'random string']\n",
      "insert method: [1, 2, 3, False, 4, 5, 1, 'random string']\n",
      "remove method:  [2, 3, False, 4, 5, 1, 'random string']\n",
      "pop method:  [2, 3, 4, 5, 1, 'random string']\n",
      "copy method:  [2, 3, 4, 5, 1, 'random string']\n",
      "clear method:  []\n"
     ]
    }
   ],
   "source": [
    "this_list = [1 , 2 , 3 , 4 , 5 , 1]\n",
    "print(\"original list: \", this_list)\n",
    "\n",
    "this_list.append(\"random string\") #adds string to end of list\n",
    "print(\"append method: \", this_list)\n",
    "\n",
    "this_list.insert(3, False) #insert false at index 3\n",
    "print(\"insert method:\", this_list)\n",
    "\n",
    "this_list.remove(1) #remove the number 1\n",
    "print(\"remove method: \", this_list)\n",
    "\n",
    "this_list.pop(2) #if nothing is specified then last item is popped off\n",
    "print(\"pop method: \", this_list)\n",
    "\n",
    "copy_this_list = this_list.copy() #stores copy of list in variable\n",
    "print(\"copy method: \", copy_this_list)\n",
    "\n",
    "this_list.clear()\n",
    "print(\"clear method: \", this_list)"
   ]
  },
  {
   "cell_type": "markdown",
   "metadata": {},
   "source": [
    "#### Dictionaries\n",
    "- A dictionary is a collection with key value pairs (Key:Value)\n",
    "- This is the same as a hashmap in java\n",
    "- The hashmap is declared through the use of curly braces\n",
    "- Dictionaries are optimized for retrieving data through the use of a key, which returns a value"
   ]
  },
  {
   "cell_type": "code",
   "execution_count": 8,
   "metadata": {},
   "outputs": [
    {
     "name": "stdout",
     "output_type": "stream",
     "text": [
      "{'Key': 'Value', 'REDID': 1923922, 'Address': '1521 Drive'} is of type <class 'dict'>\n",
      "{'A': 1, 'B': 2, 'C': 3, 'D': 4} is of type <class 'dict'>\n"
     ]
    }
   ],
   "source": [
    "this_dictionary = {\"Key\" : \"Value\" , \"REDID\" : 1923922 , \"Address\" : \"1521 Drive\"} #Declaring dictionary\n",
    "print(this_dictionary, \"is of type\", type(this_dictionary))\n",
    "\n",
    "#May also be written like this:\n",
    "abc_num_conversion = {\n",
    "    \"A\":1,\n",
    "    \"B\":2,\n",
    "    \"C\":3,\n",
    "    \"D\":4\n",
    "}\n",
    "print(abc_num_conversion, \"is of type\", type(abc_num_conversion))"
   ]
  },
  {
   "cell_type": "markdown",
   "metadata": {},
   "source": [
    "#### Accessing Dictionaries\n",
    "- Just like other data structures, there are different methods in order to access and modify dictionaries\n",
    "- Below we'll cover the different ways to access and modify a dictionary\n",
    "- There are more methods than the ones listed below but these are the most important ones"
   ]
  },
  {
   "cell_type": "code",
   "execution_count": 9,
   "metadata": {},
   "outputs": [
    {
     "name": "stdout",
     "output_type": "stream",
     "text": [
      "original Dictionary:  {1000231: 'Jarvis Coleman', 1023234: 'John Doe', 1052342: 'Hector Nevarez'}\n",
      "Adding Item:  {1000231: 'Jarvis Coleman', 1023234: 'John Doe', 1052342: 'Hector Nevarez', 8239023: 'Alex Navarro'}\n",
      "Removing Item:  {1000231: 'Jarvis Coleman', 1023234: 'John Doe', 8239023: 'Alex Navarro'}\n",
      "Popping Item:  {1000231: 'Jarvis Coleman', 1023234: 'John Doe'}\n",
      "Getting Value from key:  John Doe\n"
     ]
    }
   ],
   "source": [
    "#Declaring a dictionary\n",
    "student_id = {1000231:\"Jarvis Coleman\" , 1023234:\"John Doe\", 1052342:\"Hector Nevarez\"}\n",
    "print(\"original Dictionary: \", student_id)\n",
    "\n",
    "#Adding to a dictionary\n",
    "student_id[8239023] = \"Alex Navarro\" #Adds key value pair to end\n",
    "print(\"Adding Item: \", student_id)\n",
    "\n",
    "#Removing Item\n",
    "student_id.pop(1052342) #Providing key removes the Key:Value pair\n",
    "print(\"Removing Item: \", student_id)\n",
    "\n",
    "student_id.popitem() #Pops last Key:Value pair in dictionary\n",
    "print(\"Popping Item: \", student_id)\n",
    "\n",
    "#Getting Value from key\n",
    "name = student_id.get(1023234)\n",
    "print(\"Getting Value from key: \", name)"
   ]
  },
  {
   "cell_type": "markdown",
   "metadata": {},
   "source": [
    "#### Other data types\n",
    "- There are other data types such as tuple and set but we won't be going over those\n",
    "- **Sets:** If you wan't more information on sets [Click Here](https://www.w3schools.com/python/python_sets.asp)\n",
    "- **Tuple:** If you want more information on tuples [Click Here](https://www.w3schools.com/python/python_tuples.asp)"
   ]
  },
  {
   "cell_type": "markdown",
   "metadata": {},
   "source": [
    "### 2. If Statements\n",
    "Before we get into If statements lets look at the logical conditions supported in python\n",
    "- Equals: a == b\n",
    "- Not Equals: a != b\n",
    "- Less than: a < b\n",
    "- Less than or equal to: a <= b\n",
    "- Greater than: a > b\n",
    "- Greater than or equal to: a >= b\n",
    "- remainder operator(modulus): 10 % 2 == 0\n",
    "\n",
    "These logical operators are used to evaluate if statements<br>\n",
    "For an if statement to execute the if statement must be true"
   ]
  },
  {
   "cell_type": "code",
   "execution_count": 10,
   "metadata": {},
   "outputs": [
    {
     "name": "stdout",
     "output_type": "stream",
     "text": [
      "SDSU AI Club\n",
      "50.0\n",
      "1.5\n"
     ]
    }
   ],
   "source": [
    "number_one = 100\n",
    "number_two = 150\n",
    "\n",
    "if number_one < number_two:\n",
    "    print(\"SDSU AI Club\")\n",
    "\n",
    "if number_one % 2 == 0:\n",
    "    print(100/2)\n",
    "\n",
    "if 3 % 2 == 1:\n",
    "    print(3/2)"
   ]
  },
  {
   "cell_type": "markdown",
   "metadata": {},
   "source": [
    "Notice how the if statement is defined by **indentation**<br>\n",
    "Python relies on indentation to define the scope of the code instead of curly braces"
   ]
  },
  {
   "cell_type": "markdown",
   "metadata": {},
   "source": [
    "#### Elif and else\n",
    "- elif stands for else if\n",
    "- the \"elif\" keyword executes if the previous if statement isn't true\n",
    "- if the \"if\" statement is true elif won't execute\n",
    "- the \"else\" keyword executes if no other if or elif statemement is executed"
   ]
  },
  {
   "cell_type": "code",
   "execution_count": 11,
   "metadata": {},
   "outputs": [
    {
     "name": "stdout",
     "output_type": "stream",
     "text": [
      "a is not equal to b\n"
     ]
    }
   ],
   "source": [
    "#Here we'll try to get the elif statement to execute\n",
    "a = 200\n",
    "b = 300\n",
    "\n",
    "if a > b: #this won't execute because it is not true\n",
    "    print(\"a is larger than b\")\n",
    "    \n",
    "elif a != b: #this will execute because the if statement above isn't true but this is\n",
    "    print(\"a is not equal to b\")\n",
    "    "
   ]
  },
  {
   "cell_type": "code",
   "execution_count": 12,
   "metadata": {},
   "outputs": [
    {
     "name": "stdout",
     "output_type": "stream",
     "text": [
      "neither a or b are greater than 1000\n"
     ]
    }
   ],
   "source": [
    "#Here we'll try to get the else statement to execute\n",
    "\n",
    "a = 200\n",
    "b = 300\n",
    "\n",
    "if a > 1000: #this won't execute\n",
    "    print(\"a is greater than 1000\")\n",
    "\n",
    "elif b > 1000: #this won't execute either because it is not true\n",
    "    print(\"b is greater than 1000\")\n",
    "    \n",
    "else: #this will execute because the if and the elif didn't execute\n",
    "    print(\"neither a or b are greater than 1000\")"
   ]
  },
  {
   "cell_type": "markdown",
   "metadata": {},
   "source": [
    "#### combining conditional statements\n",
    "- you can use the \"and\" keyword requiring both conditional statements to be true\n",
    "- you can use the \"or\" keyword requiring one conditional statement to be true"
   ]
  },
  {
   "cell_type": "code",
   "execution_count": 13,
   "metadata": {},
   "outputs": [
    {
     "name": "stdout",
     "output_type": "stream",
     "text": [
      "both conditions must be met for this to print\n",
      "only one condition must be true for this to execute\n"
     ]
    }
   ],
   "source": [
    "num1 = 100.2\n",
    "num2 = 50\n",
    "num3 = 19\n",
    "num4 = 77\n",
    "\n",
    "if num1 > num2 and num3 < num4: #this will execute because both conditions are met\n",
    "    print(\"both conditions must be met for this to print\")\n",
    "    \n",
    "if num1 == num2 or num3 < num4: #this will execute because only one condition is met\n",
    "    print(\"only one condition must be true for this to execute\")"
   ]
  }
 ],
 "metadata": {
  "kernelspec": {
   "display_name": "Python 3",
   "language": "python",
   "name": "python3"
  },
  "language_info": {
   "codemirror_mode": {
    "name": "ipython",
    "version": 3
   },
   "file_extension": ".py",
   "mimetype": "text/x-python",
   "name": "python",
   "nbconvert_exporter": "python",
   "pygments_lexer": "ipython3",
   "version": "3.8.3"
  }
 },
 "nbformat": 4,
 "nbformat_minor": 4
}
