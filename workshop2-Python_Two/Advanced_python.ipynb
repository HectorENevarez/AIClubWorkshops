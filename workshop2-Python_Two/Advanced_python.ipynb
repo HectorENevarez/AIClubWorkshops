{
 "cells": [
  {
   "cell_type": "markdown",
   "metadata": {},
   "source": [
    "# Advanced Python\n",
    "For this workshop we're going to dive deeper into python"
   ]
  },
  {
   "cell_type": "markdown",
   "metadata": {},
   "source": [
    "### 3Looping\n",
    "Python has two kinds of loops, for loops and while loops\n",
    "- The while loop is used to execute boolean statements\n",
    "- Typically, in any programming language, we use a while loop when we don't know how many times we'll iterate over something\n",
    "- The for loop iterates over a given sequence\n",
    "- We use for loops when we know what range we're going to iterate over\n",
    "\n",
    "Let's first take a look at the for loop:"
   ]
  },
  {
   "cell_type": "code",
   "execution_count": null,
   "metadata": {},
   "outputs": [],
   "source": [
    "# we use the range function for \"for\" loops\n",
    "for x in range(5): #Here x is the iterater in the range 0-4\n",
    "    print(x)"
   ]
  },
  {
   "cell_type": "code",
   "execution_count": null,
   "metadata": {},
   "outputs": [],
   "source": [
    "#We can provide a more specific range in the range function\n",
    "for num in range(3 , 8): #here we iterate from 3 - 7\n",
    "    print(num) #also notice we used num instead of x; we "
   ]
  },
  {
   "cell_type": "markdown",
   "metadata": {},
   "source": [
    "#### For loops can iterate over different data structures as well, similar to for each loops in Java\n",
    "- For loops work with different data types and data structures\n",
    "\n",
    "Below are some examples"
   ]
  },
  {
   "cell_type": "code",
   "execution_count": null,
   "metadata": {},
   "outputs": [],
   "source": [
    "list_of_nums = [1 , 5 , 10 , 20] #initialize list\n",
    "\n",
    "for i in list_of_nums: #the variable i iterates through every item in the list\n",
    "    print(i)"
   ]
  },
  {
   "cell_type": "code",
   "execution_count": null,
   "metadata": {},
   "outputs": [],
   "source": [
    "student_id = {1000231:\"Jarvis Coleman\" , 1023234:\"John Doe\", 1052342:\"Hector Nevarez\"} #declaring dict\n",
    "\n",
    "for key in student_id.keys(): #here we retrieve only keys and print keys\n",
    "    print(x)\n",
    "    \n",
    "print(\"\\n\") #newline\n",
    "for value in student_id.values(): #here we retrieve only values and print\n",
    "    print(value)\n",
    "\n",
    "print(\"\\n\") #new line\n",
    "for key, values in student_id.items(): #here we get the key and value and print both\n",
    "    print(key, \":\" , value)"
   ]
  },
  {
   "cell_type": "code",
   "execution_count": null,
   "metadata": {},
   "outputs": [],
   "source": [
    "name = \"SDSU AI\" #declaring string\n",
    "\n",
    "for x in name: #iterate through each character in string\n",
    "    print(x)"
   ]
  },
  {
   "cell_type": "markdown",
   "metadata": {},
   "source": [
    "#### While loops\n",
    "Now that we went over the basics of for loops, let's look at while loops"
   ]
  },
  {
   "cell_type": "code",
   "execution_count": null,
   "metadata": {},
   "outputs": [],
   "source": [
    "#like if statements, while loops use conditional statements\n",
    "a = 0\n",
    "while a != 5: #this will execute until it's not true\n",
    "    print(a)\n",
    "    a = a + 1 #we are manually increasing the iterator"
   ]
  },
  {
   "cell_type": "markdown",
   "metadata": {},
   "source": [
    "## Importing Modules\n",
    "When importing modules we usually keep that at the top of our script\n",
    "- Python modules are the equivalent of java packages\n",
    "\n",
    "Let's take a look"
   ]
  },
  {
   "cell_type": "code",
   "execution_count": 1,
   "metadata": {},
   "outputs": [
    {
     "name": "stdout",
     "output_type": "stream",
     "text": [
      "3.141592653589793\n"
     ]
    }
   ],
   "source": [
    "#To use math functions we must import the math module\n",
    "import math\n",
    "\n",
    "x = math.pi #Here we are calling the math module to use its pi function\n",
    "print(x)"
   ]
  },
  {
   "cell_type": "code",
   "execution_count": 2,
   "metadata": {},
   "outputs": [
    {
     "name": "stdout",
     "output_type": "stream",
     "text": [
      "3.141592653589793\n"
     ]
    }
   ],
   "source": [
    "#We can also give aliases to packages\n",
    "import math as m #You can change this alias to what you want\n",
    "\n",
    "x = m.pi #We're doing the same as the code above except we call math with an alias 'm'\n",
    "print(x)"
   ]
  },
  {
   "cell_type": "markdown",
   "metadata": {},
   "source": [
    "## Functions\n",
    "- A function is a block of code that only runs when it is called\n",
    "- Functions take data and can return data as a result\n",
    "- We typically use functions when we need a block of code to execute various times\n",
    "- A function is defined by the def keyword and then the name of the function"
   ]
  },
  {
   "cell_type": "code",
   "execution_count": 3,
   "metadata": {},
   "outputs": [],
   "source": [
    "def my_function(): #Here we defined a simple function\n",
    "    print(\"Python is easy to learn\")"
   ]
  },
  {
   "cell_type": "markdown",
   "metadata": {},
   "source": [
    "Notice above how our function didn't print anything <br>\n",
    "In order for it to execute we must **call it**:"
   ]
  },
  {
   "cell_type": "code",
   "execution_count": 4,
   "metadata": {},
   "outputs": [
    {
     "name": "stdout",
     "output_type": "stream",
     "text": [
      "Python is easy to learn\n"
     ]
    }
   ],
   "source": [
    "def my_function():\n",
    "    print(\"Python is easy to learn\")\n",
    "\n",
    "my_function() #Calling function"
   ]
  },
  {
   "cell_type": "markdown",
   "metadata": {},
   "source": [
    "### Function Arguments\n",
    "- Our functions can also take data input, which is called an argument\n",
    "- You can add as many arguments as you want as long as they are separated by commas\n",
    "- When you call your function you must provide as many arguments as parameters listed unless you specify a default parameter\n",
    "- You don't have to specify the type of the parameter like in other languages"
   ]
  },
  {
   "cell_type": "code",
   "execution_count": 5,
   "metadata": {},
   "outputs": [
    {
     "name": "stdout",
     "output_type": "stream",
     "text": [
      "Bob attends SDSU\n",
      "John attends SDSU\n"
     ]
    }
   ],
   "source": [
    "def a_function(student_name): #Here in the paranthesis we define number of parameters\n",
    "    print(student_name + \" attends SDSU\") #We use arguement in print statement\n",
    "\n",
    "a_function(\"Bob\") #Call function and provide arguement\n",
    "a_function(\"John\")"
   ]
  },
  {
   "cell_type": "code",
   "execution_count": 6,
   "metadata": {},
   "outputs": [
    {
     "name": "stdout",
     "output_type": "stream",
     "text": [
      "Hector's redid is:  1082954\n"
     ]
    }
   ],
   "source": [
    "def another_function(name, redid): #Here we have two parameters\n",
    "    print(name + \"'s redid is: \", redid)\n",
    "    \n",
    "another_function(\"Hector\" , 1082954) #arguements fill parameters in order so first arguement gets first paramter"
   ]
  },
  {
   "cell_type": "markdown",
   "metadata": {},
   "source": [
    "### Arbitrary Arguments\n",
    "- If the number of arguments is unknown, add a * before the parameter name\n",
    "- This turns the parameter into a tuple that you can access\n",
    "- A tuple is just an immutable list that you can access"
   ]
  },
  {
   "cell_type": "code",
   "execution_count": 7,
   "metadata": {},
   "outputs": [
    {
     "name": "stdout",
     "output_type": "stream",
     "text": [
      "Hector\n",
      "Matt\n",
      "Antoine\n",
      "Andrew\n",
      "Brittany\n",
      "student at index 1 is Matt\n"
     ]
    }
   ],
   "source": [
    "def student_list(*students): #Accepting arbitrary arguments\n",
    "    for x in students: #We can iterate through tuple\n",
    "        print(x)\n",
    "        \n",
    "    print(\"student at index 1 is \" + students[1]) #or we can access specific index in tuple\n",
    "    \n",
    "student_list(\"Hector\",\"Matt\",\"Antoine\",\"Andrew\",\"Brittany\")"
   ]
  },
  {
   "cell_type": "markdown",
   "metadata": {},
   "source": [
    "### Return Values\n",
    "- Functions also let you return values\n",
    "- Using the **return** statement returns any value you give it"
   ]
  },
  {
   "cell_type": "code",
   "execution_count": 8,
   "metadata": {},
   "outputs": [
    {
     "name": "stdout",
     "output_type": "stream",
     "text": [
      "15\n",
      "50\n"
     ]
    }
   ],
   "source": [
    "def mult_by_five(x):\n",
    "    return x * 5 #returning x value times 5\n",
    "\n",
    "print(mult_by_five(3))\n",
    "print(mult_by_five(10))"
   ]
  },
  {
   "cell_type": "markdown",
   "metadata": {},
   "source": [
    "## Lambda Functions\n",
    "A lambda function is a one line function with only one expression\n",
    "- The format of the lambda function is  'lambda argument: expression'\n",
    "- The expression is executed and the result is returned\n",
    "- The function is only executed if it is called\n",
    "- Lambda functions can be used for various outputs"
   ]
  },
  {
   "cell_type": "code",
   "execution_count": 9,
   "metadata": {},
   "outputs": [
    {
     "name": "stdout",
     "output_type": "stream",
     "text": [
      "15\n",
      "15\n"
     ]
    }
   ],
   "source": [
    "#Here's an example of a single function\n",
    "x = lambda a : a + 10 #a is the parameter and x holds the result\n",
    "print(x(5)) #5 is the argument being passed to the function\n",
    "\n",
    "#the function above is equivalent to:\n",
    "def x(a):\n",
    "    a = a + 10\n",
    "    return a\n",
    "\n",
    "print(x(5))"
   ]
  },
  {
   "cell_type": "code",
   "execution_count": 10,
   "metadata": {},
   "outputs": [
    {
     "name": "stdout",
     "output_type": "stream",
     "text": [
      "30\n"
     ]
    }
   ],
   "source": [
    "#This lambda function takes two arguments\n",
    "multiply_numbers = lambda a,b : a * b  #a and b are parameters\n",
    "print(multiply_numbers(3,10))#3 and 10 are arguments"
   ]
  },
  {
   "cell_type": "code",
   "execution_count": 11,
   "metadata": {},
   "outputs": [
    {
     "name": "stdout",
     "output_type": "stream",
     "text": [
      "False\n"
     ]
    }
   ],
   "source": [
    "#you can also include if else chains in lambda functions\n",
    "x = lambda x : True if (x > 10) else False\n",
    "print(x(10))"
   ]
  },
  {
   "cell_type": "markdown",
   "metadata": {},
   "source": [
    "## Basic Main function\n",
    "- When running a file directly we like to check if the file is being imported or run directly\n",
    "- This block of code will only execute if the file is being run directly"
   ]
  },
  {
   "cell_type": "code",
   "execution_count": 12,
   "metadata": {},
   "outputs": [
    {
     "name": "stdout",
     "output_type": "stream",
     "text": [
      "This file is being run directly\n",
      "__main__\n"
     ]
    }
   ],
   "source": [
    "if __name__ == '__main__':\n",
    "    print(\"This file is being run directly\")\n",
    "    print(__name__) #in this case name is main"
   ]
  },
  {
   "cell_type": "code",
   "execution_count": 13,
   "metadata": {},
   "outputs": [
    {
     "name": "stdout",
     "output_type": "stream",
     "text": [
      "Hello World\n"
     ]
    }
   ],
   "source": [
    "#Heres an example of main function\n",
    "def main():\n",
    "    print(\"Hello World\")\n",
    "    \n",
    "if __name__ == \"__main__\":\n",
    "    main()"
   ]
  }
 ],
 "metadata": {
  "kernelspec": {
   "display_name": "Python 3",
   "language": "python",
   "name": "python3"
  },
  "language_info": {
   "codemirror_mode": {
    "name": "ipython",
    "version": 3
   },
   "file_extension": ".py",
   "mimetype": "text/x-python",
   "name": "python",
   "nbconvert_exporter": "python",
   "pygments_lexer": "ipython3",
   "version": "3.8.3"
  }
 },
 "nbformat": 4,
 "nbformat_minor": 4
}
