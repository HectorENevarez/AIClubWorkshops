{
 "cells": [
  {
   "cell_type": "code",
   "execution_count": 1,
   "metadata": {},
   "outputs": [],
   "source": [
    "import pandas as pd\n",
    "import matplotlib.pyplot as plt\n",
    "import numpy as np"
   ]
  },
  {
   "cell_type": "code",
   "execution_count": 2,
   "metadata": {},
   "outputs": [],
   "source": [
    "df = pd.read_csv(\"../workshop3-cleaningData/Salary_Data_Cleaned.csv\") #read in csv"
   ]
  },
  {
   "cell_type": "code",
   "execution_count": 3,
   "metadata": {},
   "outputs": [
    {
     "data": {
      "text/plain": [
       "Index(['Unnamed: 0', 'Job Title', 'Salary Estimate', 'Job Description',\n",
       "       'Rating', 'Company Name', 'Location', 'Headquarters', 'Size', 'Founded',\n",
       "       'Type of ownership', 'Industry', 'Sector', 'Revenue', 'Competitors',\n",
       "       'Company', 'min_sal', 'max_sal', 'Salary(Avg)', 'State', 'City',\n",
       "       'Position at HQ', 'Company Age', 'JavaScript', 'Python', 'C_plus',\n",
       "       'SQL', 'AWS'],\n",
       "      dtype='object')"
      ]
     },
     "execution_count": 3,
     "metadata": {},
     "output_type": "execute_result"
    }
   ],
   "source": [
    "df.columns #print columns"
   ]
  },
  {
   "cell_type": "code",
   "execution_count": 4,
   "metadata": {},
   "outputs": [],
   "source": [
    "df_model = df[['Rating', 'Size' , 'Type of ownership' , 'Industry', 'Sector' , 'Revenue' , 'Salary(Avg)' , \n",
    "             'State' , 'City' , 'Position at HQ' , 'Company Age']] #seperate variables"
   ]
  },
  {
   "cell_type": "code",
   "execution_count": 5,
   "metadata": {},
   "outputs": [
    {
     "data": {
      "text/html": [
       "<div>\n",
       "<style scoped>\n",
       "    .dataframe tbody tr th:only-of-type {\n",
       "        vertical-align: middle;\n",
       "    }\n",
       "\n",
       "    .dataframe tbody tr th {\n",
       "        vertical-align: top;\n",
       "    }\n",
       "\n",
       "    .dataframe thead th {\n",
       "        text-align: right;\n",
       "    }\n",
       "</style>\n",
       "<table border=\"1\" class=\"dataframe\">\n",
       "  <thead>\n",
       "    <tr style=\"text-align: right;\">\n",
       "      <th></th>\n",
       "      <th>Rating</th>\n",
       "      <th>Size</th>\n",
       "      <th>Type of ownership</th>\n",
       "      <th>Industry</th>\n",
       "      <th>Sector</th>\n",
       "      <th>Revenue</th>\n",
       "      <th>Salary(Avg)</th>\n",
       "      <th>State</th>\n",
       "      <th>City</th>\n",
       "      <th>Position at HQ</th>\n",
       "      <th>Company Age</th>\n",
       "    </tr>\n",
       "  </thead>\n",
       "  <tbody>\n",
       "    <tr>\n",
       "      <th>0</th>\n",
       "      <td>4.4</td>\n",
       "      <td>51 to 200 employees</td>\n",
       "      <td>Company - Private</td>\n",
       "      <td>Staffing &amp; Outsourcing</td>\n",
       "      <td>Business Services</td>\n",
       "      <td>$5 to $10 million (USD)</td>\n",
       "      <td>132.0</td>\n",
       "      <td>NC</td>\n",
       "      <td>Boone</td>\n",
       "      <td>0</td>\n",
       "      <td>15</td>\n",
       "    </tr>\n",
       "    <tr>\n",
       "      <th>1</th>\n",
       "      <td>3.6</td>\n",
       "      <td>201 to 500 employees</td>\n",
       "      <td>Subsidiary or Business Segment</td>\n",
       "      <td>Advertising &amp; Marketing</td>\n",
       "      <td>Business Services</td>\n",
       "      <td>Unknown / Non-Applicable</td>\n",
       "      <td>132.0</td>\n",
       "      <td>WI</td>\n",
       "      <td>Marshfield</td>\n",
       "      <td>0</td>\n",
       "      <td>20</td>\n",
       "    </tr>\n",
       "    <tr>\n",
       "      <th>2</th>\n",
       "      <td>4.7</td>\n",
       "      <td>201 to 500 employees</td>\n",
       "      <td>Company - Private</td>\n",
       "      <td>Internet</td>\n",
       "      <td>Information Technology</td>\n",
       "      <td>$10 to $25 million (USD)</td>\n",
       "      <td>132.0</td>\n",
       "      <td>TX</td>\n",
       "      <td>Austin</td>\n",
       "      <td>1</td>\n",
       "      <td>5</td>\n",
       "    </tr>\n",
       "    <tr>\n",
       "      <th>3</th>\n",
       "      <td>4.2</td>\n",
       "      <td>51 to 200 employees</td>\n",
       "      <td>Company - Private</td>\n",
       "      <td>Logistics &amp; Supply Chain</td>\n",
       "      <td>Transportation &amp; Logistics</td>\n",
       "      <td>Unknown / Non-Applicable</td>\n",
       "      <td>132.0</td>\n",
       "      <td>FL</td>\n",
       "      <td>Jacksonville</td>\n",
       "      <td>1</td>\n",
       "      <td>28</td>\n",
       "    </tr>\n",
       "    <tr>\n",
       "      <th>4</th>\n",
       "      <td>4.0</td>\n",
       "      <td>201 to 500 employees</td>\n",
       "      <td>Company - Private</td>\n",
       "      <td>Computer Hardware &amp; Software</td>\n",
       "      <td>Information Technology</td>\n",
       "      <td>$25 to $50 million (USD)</td>\n",
       "      <td>132.0</td>\n",
       "      <td>MO</td>\n",
       "      <td>O'Fallon</td>\n",
       "      <td>1</td>\n",
       "      <td>35</td>\n",
       "    </tr>\n",
       "  </tbody>\n",
       "</table>\n",
       "</div>"
      ],
      "text/plain": [
       "   Rating                  Size               Type of ownership  \\\n",
       "0     4.4   51 to 200 employees               Company - Private   \n",
       "1     3.6  201 to 500 employees  Subsidiary or Business Segment   \n",
       "2     4.7  201 to 500 employees               Company - Private   \n",
       "3     4.2   51 to 200 employees               Company - Private   \n",
       "4     4.0  201 to 500 employees               Company - Private   \n",
       "\n",
       "                       Industry                      Sector  \\\n",
       "0        Staffing & Outsourcing           Business Services   \n",
       "1       Advertising & Marketing           Business Services   \n",
       "2                      Internet      Information Technology   \n",
       "3      Logistics & Supply Chain  Transportation & Logistics   \n",
       "4  Computer Hardware & Software      Information Technology   \n",
       "\n",
       "                    Revenue  Salary(Avg) State          City  Position at HQ  \\\n",
       "0   $5 to $10 million (USD)        132.0    NC         Boone               0   \n",
       "1  Unknown / Non-Applicable        132.0    WI    Marshfield               0   \n",
       "2  $10 to $25 million (USD)        132.0    TX        Austin               1   \n",
       "3  Unknown / Non-Applicable        132.0    FL  Jacksonville               1   \n",
       "4  $25 to $50 million (USD)        132.0    MO      O'Fallon               1   \n",
       "\n",
       "   Company Age  \n",
       "0           15  \n",
       "1           20  \n",
       "2            5  \n",
       "3           28  \n",
       "4           35  "
      ]
     },
     "execution_count": 5,
     "metadata": {},
     "output_type": "execute_result"
    }
   ],
   "source": [
    "df_model.head() #show head"
   ]
  },
  {
   "cell_type": "code",
   "execution_count": 6,
   "metadata": {},
   "outputs": [],
   "source": [
    "df_dum = pd.get_dummies(df_model) #create dummy for categorical data"
   ]
  },
  {
   "cell_type": "code",
   "execution_count": 7,
   "metadata": {},
   "outputs": [
    {
     "data": {
      "text/html": [
       "<div>\n",
       "<style scoped>\n",
       "    .dataframe tbody tr th:only-of-type {\n",
       "        vertical-align: middle;\n",
       "    }\n",
       "\n",
       "    .dataframe tbody tr th {\n",
       "        vertical-align: top;\n",
       "    }\n",
       "\n",
       "    .dataframe thead th {\n",
       "        text-align: right;\n",
       "    }\n",
       "</style>\n",
       "<table border=\"1\" class=\"dataframe\">\n",
       "  <thead>\n",
       "    <tr style=\"text-align: right;\">\n",
       "      <th></th>\n",
       "      <th>Rating</th>\n",
       "      <th>Salary(Avg)</th>\n",
       "      <th>Position at HQ</th>\n",
       "      <th>Company Age</th>\n",
       "      <th>Size_-1</th>\n",
       "      <th>Size_1 to 50 employees</th>\n",
       "      <th>Size_10000+ employees</th>\n",
       "      <th>Size_1001 to 5000 employees</th>\n",
       "      <th>Size_201 to 500 employees</th>\n",
       "      <th>Size_5001 to 10000 employees</th>\n",
       "      <th>...</th>\n",
       "      <th>City_West Chester</th>\n",
       "      <th>City_Westwood</th>\n",
       "      <th>City_White Plains</th>\n",
       "      <th>City_Wichita</th>\n",
       "      <th>City_Wilsonville</th>\n",
       "      <th>City_Winston-Salem</th>\n",
       "      <th>City_Winter Park</th>\n",
       "      <th>City_Woodbridge</th>\n",
       "      <th>City_Woodland Hills</th>\n",
       "      <th>City_Woodstock</th>\n",
       "    </tr>\n",
       "  </thead>\n",
       "  <tbody>\n",
       "    <tr>\n",
       "      <th>0</th>\n",
       "      <td>4.4</td>\n",
       "      <td>132.0</td>\n",
       "      <td>0</td>\n",
       "      <td>15</td>\n",
       "      <td>0</td>\n",
       "      <td>0</td>\n",
       "      <td>0</td>\n",
       "      <td>0</td>\n",
       "      <td>0</td>\n",
       "      <td>0</td>\n",
       "      <td>...</td>\n",
       "      <td>0</td>\n",
       "      <td>0</td>\n",
       "      <td>0</td>\n",
       "      <td>0</td>\n",
       "      <td>0</td>\n",
       "      <td>0</td>\n",
       "      <td>0</td>\n",
       "      <td>0</td>\n",
       "      <td>0</td>\n",
       "      <td>0</td>\n",
       "    </tr>\n",
       "    <tr>\n",
       "      <th>1</th>\n",
       "      <td>3.6</td>\n",
       "      <td>132.0</td>\n",
       "      <td>0</td>\n",
       "      <td>20</td>\n",
       "      <td>0</td>\n",
       "      <td>0</td>\n",
       "      <td>0</td>\n",
       "      <td>0</td>\n",
       "      <td>1</td>\n",
       "      <td>0</td>\n",
       "      <td>...</td>\n",
       "      <td>0</td>\n",
       "      <td>0</td>\n",
       "      <td>0</td>\n",
       "      <td>0</td>\n",
       "      <td>0</td>\n",
       "      <td>0</td>\n",
       "      <td>0</td>\n",
       "      <td>0</td>\n",
       "      <td>0</td>\n",
       "      <td>0</td>\n",
       "    </tr>\n",
       "    <tr>\n",
       "      <th>2</th>\n",
       "      <td>4.7</td>\n",
       "      <td>132.0</td>\n",
       "      <td>1</td>\n",
       "      <td>5</td>\n",
       "      <td>0</td>\n",
       "      <td>0</td>\n",
       "      <td>0</td>\n",
       "      <td>0</td>\n",
       "      <td>1</td>\n",
       "      <td>0</td>\n",
       "      <td>...</td>\n",
       "      <td>0</td>\n",
       "      <td>0</td>\n",
       "      <td>0</td>\n",
       "      <td>0</td>\n",
       "      <td>0</td>\n",
       "      <td>0</td>\n",
       "      <td>0</td>\n",
       "      <td>0</td>\n",
       "      <td>0</td>\n",
       "      <td>0</td>\n",
       "    </tr>\n",
       "    <tr>\n",
       "      <th>3</th>\n",
       "      <td>4.2</td>\n",
       "      <td>132.0</td>\n",
       "      <td>1</td>\n",
       "      <td>28</td>\n",
       "      <td>0</td>\n",
       "      <td>0</td>\n",
       "      <td>0</td>\n",
       "      <td>0</td>\n",
       "      <td>0</td>\n",
       "      <td>0</td>\n",
       "      <td>...</td>\n",
       "      <td>0</td>\n",
       "      <td>0</td>\n",
       "      <td>0</td>\n",
       "      <td>0</td>\n",
       "      <td>0</td>\n",
       "      <td>0</td>\n",
       "      <td>0</td>\n",
       "      <td>0</td>\n",
       "      <td>0</td>\n",
       "      <td>0</td>\n",
       "    </tr>\n",
       "    <tr>\n",
       "      <th>4</th>\n",
       "      <td>4.0</td>\n",
       "      <td>132.0</td>\n",
       "      <td>1</td>\n",
       "      <td>35</td>\n",
       "      <td>0</td>\n",
       "      <td>0</td>\n",
       "      <td>0</td>\n",
       "      <td>0</td>\n",
       "      <td>1</td>\n",
       "      <td>0</td>\n",
       "      <td>...</td>\n",
       "      <td>0</td>\n",
       "      <td>0</td>\n",
       "      <td>0</td>\n",
       "      <td>0</td>\n",
       "      <td>0</td>\n",
       "      <td>0</td>\n",
       "      <td>0</td>\n",
       "      <td>0</td>\n",
       "      <td>0</td>\n",
       "      <td>0</td>\n",
       "    </tr>\n",
       "  </tbody>\n",
       "</table>\n",
       "<p>5 rows × 390 columns</p>\n",
       "</div>"
      ],
      "text/plain": [
       "   Rating  Salary(Avg)  Position at HQ  Company Age  Size_-1  \\\n",
       "0     4.4        132.0               0           15        0   \n",
       "1     3.6        132.0               0           20        0   \n",
       "2     4.7        132.0               1            5        0   \n",
       "3     4.2        132.0               1           28        0   \n",
       "4     4.0        132.0               1           35        0   \n",
       "\n",
       "   Size_1 to 50 employees  Size_10000+ employees  Size_1001 to 5000 employees  \\\n",
       "0                       0                      0                            0   \n",
       "1                       0                      0                            0   \n",
       "2                       0                      0                            0   \n",
       "3                       0                      0                            0   \n",
       "4                       0                      0                            0   \n",
       "\n",
       "   Size_201 to 500 employees  Size_5001 to 10000 employees  ...  \\\n",
       "0                          0                             0  ...   \n",
       "1                          1                             0  ...   \n",
       "2                          1                             0  ...   \n",
       "3                          0                             0  ...   \n",
       "4                          1                             0  ...   \n",
       "\n",
       "   City_West Chester  City_Westwood  City_White Plains  City_Wichita  \\\n",
       "0                  0              0                  0             0   \n",
       "1                  0              0                  0             0   \n",
       "2                  0              0                  0             0   \n",
       "3                  0              0                  0             0   \n",
       "4                  0              0                  0             0   \n",
       "\n",
       "   City_Wilsonville  City_Winston-Salem  City_Winter Park  City_Woodbridge  \\\n",
       "0                 0                   0                 0                0   \n",
       "1                 0                   0                 0                0   \n",
       "2                 0                   0                 0                0   \n",
       "3                 0                   0                 0                0   \n",
       "4                 0                   0                 0                0   \n",
       "\n",
       "   City_Woodland Hills  City_Woodstock  \n",
       "0                    0               0  \n",
       "1                    0               0  \n",
       "2                    0               0  \n",
       "3                    0               0  \n",
       "4                    0               0  \n",
       "\n",
       "[5 rows x 390 columns]"
      ]
     },
     "execution_count": 7,
     "metadata": {},
     "output_type": "execute_result"
    }
   ],
   "source": [
    "df_dum.head() #shows dummies"
   ]
  },
  {
   "cell_type": "code",
   "execution_count": 8,
   "metadata": {},
   "outputs": [],
   "source": [
    "from sklearn.model_selection import train_test_split\n",
    "\n",
    "#create a train test split\n",
    "y = df_dum['Salary(Avg)'].values #creates an array and is more recommended for models\n",
    "X = df_dum.drop(\"Salary(Avg)\" , axis=1)\n",
    "\n",
    "X_train , X_test, y_train, y_test = train_test_split(X , y, test_size=0.3, random_state=1)"
   ]
  },
  {
   "cell_type": "code",
   "execution_count": 9,
   "metadata": {},
   "outputs": [
    {
     "data": {
      "text/plain": [
       "(700,)"
      ]
     },
     "execution_count": 9,
     "metadata": {},
     "output_type": "execute_result"
    }
   ],
   "source": [
    "y_train.shape"
   ]
  },
  {
   "cell_type": "code",
   "execution_count": 10,
   "metadata": {},
   "outputs": [
    {
     "data": {
      "text/plain": [
       "(700, 389)"
      ]
     },
     "execution_count": 10,
     "metadata": {},
     "output_type": "execute_result"
    }
   ],
   "source": [
    "X_train.shape"
   ]
  },
  {
   "cell_type": "code",
   "execution_count": 11,
   "metadata": {},
   "outputs": [
    {
     "data": {
      "text/plain": [
       "-10800693038.182928"
      ]
     },
     "execution_count": 11,
     "metadata": {},
     "output_type": "execute_result"
    }
   ],
   "source": [
    "from sklearn.linear_model import LinearRegression, Lasso #importing model\n",
    "from sklearn.model_selection import cross_val_score #cross validate to see how model is performing\n",
    "\n",
    "#Linear Regression\n",
    "model_LR = LinearRegression() #choosing model type\n",
    "model_LR.fit(X_train, y_train) #this is the model gettin trained\n",
    "\n",
    "np.mean(cross_val_score(model_LR, X_train, y_train,scoring='neg_mean_absolute_error'))"
   ]
  },
  {
   "cell_type": "code",
   "execution_count": 12,
   "metadata": {},
   "outputs": [],
   "source": [
    "#lasso regression\n",
    "model_L = Lasso(alpha=1.4)\n",
    "model_L.fit(X_train,y_train)\n",
    "\n",
    "np.mean(cross_val_score(model_L, X_train, y_train,scoring='neg_mean_absolute_error'))\n",
    "\n",
    "alpha = []\n",
    "error = []\n",
    "for i in range(1,100):\n",
    "    alpha.append(i/10)\n",
    "    lml = Lasso(alpha=(i/10))\n",
    "    error.append(np.mean(cross_val_score(lml, X_train, y_train,scoring='neg_mean_absolute_error')))"
   ]
  },
  {
   "cell_type": "code",
   "execution_count": 13,
   "metadata": {},
   "outputs": [
    {
     "data": {
      "image/png": "[encoded data removed]",
      "text/plain": [
       "<Figure size 432x288 with 1 Axes>"
      ]
     },
     "metadata": {
      "needs_background": "light"
     },
     "output_type": "display_data"
    }
   ],
   "source": [
    "plt.plot(alpha,error)\n",
    "plt.show()"
   ]
  },
  {
   "cell_type": "code",
   "execution_count": 14,
   "metadata": {},
   "outputs": [
    {
     "data": {
      "text/plain": [
       "[-15.93759602247565,\n",
       " -15.889348241988651,\n",
       " -15.826958088445846,\n",
       " -15.82197359832291,\n",
       " -15.830746261428654,\n",
       " -15.840767576216205,\n",
       " -15.83458517835661,\n",
       " -15.830202608893137,\n",
       " -15.82769304054176,\n",
       " -15.827560636887602,\n",
       " -15.827428233233444,\n",
       " -15.827295829579288,\n",
       " -15.82716412242155,\n",
       " -15.827035300072684,\n",
       " -15.826906477723815,\n",
       " -15.826777655374949,\n",
       " -15.826648833026084,\n",
       " -15.826520010677218,\n",
       " -15.82639118832835,\n",
       " -15.826262365979483,\n",
       " -15.826139766533199,\n",
       " -15.826017618399238,\n",
       " -15.825900523126014,\n",
       " -15.82578770027234,\n",
       " -15.825674877418663,\n",
       " -15.825562054564992,\n",
       " -15.825449231711318,\n",
       " -15.825336408857643,\n",
       " -15.825214299327788,\n",
       " -15.82508373800627,\n",
       " -15.824953176684755,\n",
       " -15.824822615363237,\n",
       " -15.82469205404172,\n",
       " -15.824561492720202,\n",
       " -15.824430931398684,\n",
       " -15.824300370077168,\n",
       " -15.82416980875565,\n",
       " -15.824039247434133,\n",
       " -15.823908686112617,\n",
       " -15.8237781247911,\n",
       " -15.823643933711557,\n",
       " -15.82350888562569,\n",
       " -15.823373837539824,\n",
       " -15.823238789453958,\n",
       " -15.82310374136809,\n",
       " -15.822968693282224,\n",
       " -15.822833645196358,\n",
       " -15.822698597110492,\n",
       " -15.822563549024622,\n",
       " -15.822428500938756,\n",
       " -15.822293452852886,\n",
       " -15.82215840476702,\n",
       " -15.822023356681152,\n",
       " -15.821888308595286,\n",
       " -15.82175326050942,\n",
       " -15.82161821242355,\n",
       " -15.821483164337684,\n",
       " -15.821348116251817,\n",
       " -15.82121306816595,\n",
       " -15.821094564002749,\n",
       " -15.820986453505077,\n",
       " -15.820878343007408,\n",
       " -15.820770232509739,\n",
       " -15.82066212201207,\n",
       " -15.820554011514403,\n",
       " -15.82044590101673,\n",
       " -15.820337790519062,\n",
       " -15.820229680021393,\n",
       " -15.820121569523725,\n",
       " -15.820013459026054,\n",
       " -15.819905348528389,\n",
       " -15.819797238030716,\n",
       " -15.819689127533048,\n",
       " -15.819581017035379,\n",
       " -15.819472906537712,\n",
       " -15.81936479604004,\n",
       " -15.819256685542374,\n",
       " -15.819148575044704,\n",
       " -15.819040464547035,\n",
       " -15.818932354049366,\n",
       " -15.818824243551697,\n",
       " -15.818716133054028,\n",
       " -15.818608022556358,\n",
       " -15.818499912058689,\n",
       " -15.81839180156102,\n",
       " -15.818283691063352,\n",
       " -15.818175580565683,\n",
       " -15.818067470068016,\n",
       " -15.817959359570343,\n",
       " -15.817851249072675,\n",
       " -15.817743138575008,\n",
       " -15.817635028077337,\n",
       " -15.817526917579666,\n",
       " -15.817418807081998,\n",
       " -15.817310696584332,\n",
       " -15.817202586086662,\n",
       " -15.817094475588991,\n",
       " -15.816986365091324,\n",
       " -15.816878254593655]"
      ]
     },
     "execution_count": 14,
     "metadata": {},
     "output_type": "execute_result"
    }
   ],
   "source": [
    "error"
   ]
  },
  {
   "cell_type": "code",
   "execution_count": 15,
   "metadata": {},
   "outputs": [
    {
     "data": {
      "text/plain": [
       "-15.827035300072684"
      ]
     },
     "execution_count": 15,
     "metadata": {},
     "output_type": "execute_result"
    }
   ],
   "source": [
    "from sklearn.ensemble import RandomForestRegressor\n",
    "\n",
    "#random forest\n",
    "model_RF = RandomForestRegressor()\n",
    "model_RF.fit(X_train, y_train)\n",
    "\n",
    "np.mean(cross_val_score(model_L, X_train, y_train, scoring='neg_mean_absolute_error'))"
   ]
  },
  {
   "cell_type": "code",
   "execution_count": 20,
   "metadata": {},
   "outputs": [],
   "source": [
    "#test models\n",
    "pred_LR = model_LR.predict(X_test)\n",
    "pred_L = model_L.predict(X_test)\n",
    "pred_RF = model_RF.predict(X_test)"
   ]
  },
  {
   "cell_type": "code",
   "execution_count": 22,
   "metadata": {},
   "outputs": [
    {
     "data": {
      "text/plain": [
       "1916241770.1631424"
      ]
     },
     "execution_count": 22,
     "metadata": {},
     "output_type": "execute_result"
    }
   ],
   "source": [
    "from sklearn.metrics import mean_absolute_error\n",
    "\n",
    "mean_absolute_error(y_test,pred_LR)"
   ]
  },
  {
   "cell_type": "code",
   "execution_count": 23,
   "metadata": {},
   "outputs": [
    {
     "data": {
      "text/plain": [
       "15.910361775254477"
      ]
     },
     "execution_count": 23,
     "metadata": {},
     "output_type": "execute_result"
    }
   ],
   "source": [
    "mean_absolute_error(y_test,pred_L)"
   ]
  },
  {
   "cell_type": "code",
   "execution_count": 24,
   "metadata": {},
   "outputs": [
    {
     "data": {
      "text/plain": [
       "15.619955932450612"
      ]
     },
     "execution_count": 24,
     "metadata": {},
     "output_type": "execute_result"
    }
   ],
   "source": [
    "mean_absolute_error(y_test,pred_RF)"
   ]
  },
  {
   "cell_type": "code",
   "execution_count": 26,
   "metadata": {},
   "outputs": [
    {
     "data": {
      "text/plain": [
       "15.306979890316352"
      ]
     },
     "execution_count": 26,
     "metadata": {},
     "output_type": "execute_result"
    }
   ],
   "source": [
    "mean_absolute_error(y_test,(pred_L+pred_RF)/2)"
   ]
  }
 ],
 "metadata": {
  "kernelspec": {
   "display_name": "Python 3",
   "language": "python",
   "name": "python3"
  },
  "language_info": {
   "codemirror_mode": {
    "name": "ipython",
    "version": 3
   },
   "file_extension": ".py",
   "mimetype": "text/x-python",
   "name": "python",
   "nbconvert_exporter": "python",
   "pygments_lexer": "ipython3",
   "version": "3.8.3"
  }
 },
 "nbformat": 4,
 "nbformat_minor": 4
}
